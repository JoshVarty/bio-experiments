{
 "cells": [
  {
   "cell_type": "markdown",
   "metadata": {},
   "source": [
    "## Toy Problem\n",
    "\n",
    "\n",
    "I can't get my Transformer to work! Let's make the problem even simpler.\n",
    "\n",
    "Given a sequence of numbers, simply reverse the sequence.\n",
    "\n",
    "```\n",
    "input = 0 1 5 9 0 3 5 2 5\n",
    "reversed = 5 2 5 3 0 9 5 1 0\n",
    "```"
   ]
  },
  {
   "cell_type": "code",
   "execution_count": 1,
   "metadata": {},
   "outputs": [],
   "source": [
    "import torch\n",
    "import random\n",
    "import numpy as np\n",
    "\n",
    "from torch.utils.data import Dataset, DataLoader\n",
    "from transformers import BertConfig, BertModel"
   ]
  },
  {
   "cell_type": "code",
   "execution_count": 2,
   "metadata": {},
   "outputs": [],
   "source": [
    "def generate_data(num_examples: int, seq_len: int, vocab_size: int):\n",
    "    inputs = np.random.randint(0, vocab_size, size=(num_examples, seq_len))\n",
    "    outputs = np.ascontiguousarray(np.flip(inputs, 1)) #PyTorch can't handle negative strides\n",
    "\n",
    "    return inputs, outputs"
   ]
  },
  {
   "cell_type": "code",
   "execution_count": 3,
   "metadata": {},
   "outputs": [
    {
     "data": {
      "text/plain": [
       "(array([[8, 6, 9, 3, 5, 1, 2, 3, 5, 4]]),\n",
       " array([[4, 5, 3, 2, 1, 5, 3, 9, 6, 8]]))"
      ]
     },
     "execution_count": 3,
     "metadata": {},
     "output_type": "execute_result"
    }
   ],
   "source": [
    "generate_data(1, 10, 10)"
   ]
  },
  {
   "cell_type": "code",
   "execution_count": 4,
   "metadata": {},
   "outputs": [],
   "source": [
    "class ToyDataset(Dataset):\n",
    "   \n",
    "    def __init__(self, num_examples, sequence_length, vocab_size):\n",
    "        self.items, self.labels = generate_data(num_examples, sequence_length, vocab_size)\n",
    "        \n",
    "    def __getitem__(self, idx):\n",
    "        \n",
    "        x = torch.Tensor(self.items[idx]).long()\n",
    "        y = torch.Tensor(self.labels[idx]).long()\n",
    "        return x.cuda(), y.cuda()\n",
    "    \n",
    "    \n",
    "    def __len__(self):\n",
    "        return len(self.items)\n"
   ]
  },
  {
   "cell_type": "code",
   "execution_count": 69,
   "metadata": {},
   "outputs": [],
   "source": [
    "NUM_EXAMPLES = 1000\n",
    "SEQUENCE_LENGTH = 9\n",
    "VOCAB_SIZE = 10\n",
    "BATCH_SIZE = 64"
   ]
  },
  {
   "cell_type": "code",
   "execution_count": 70,
   "metadata": {},
   "outputs": [],
   "source": [
    "train_ds = ToyDataset(num_examples=NUM_EXAMPLES, sequence_length=SEQUENCE_LENGTH, vocab_size=VOCAB_SIZE)\n",
    "train_dl = DataLoader(train_ds, batch_size=BATCH_SIZE)"
   ]
  },
  {
   "cell_type": "code",
   "execution_count": 71,
   "metadata": {},
   "outputs": [],
   "source": [
    "class ToyModel(torch.nn.Module):\n",
    "    \"\"\"\n",
    "    Wrapper around a BERT model that predicts a single binary output for each input token\n",
    "    \"\"\"\n",
    "    \n",
    "    def __init__(self, vocab_size):\n",
    "        super().__init__()\n",
    "        \n",
    "        # Untrained BERT Model\n",
    "        config = BertConfig(vocab_size_or_config_json_file=vocab_size)\n",
    "        self.bert_model = BertModel(config)\n",
    "        self.linear = torch.nn.Linear(in_features=768, out_features=vocab_size)\n",
    "        \n",
    "    def forward(self, x):    \n",
    "        out, _ = self.bert_model(x)\n",
    "        out = self.linear(out)\n",
    "        return out    "
   ]
  },
  {
   "cell_type": "code",
   "execution_count": 72,
   "metadata": {},
   "outputs": [],
   "source": [
    "model = ToyModel(VOCAB_SIZE)\n",
    "model = model.cuda()"
   ]
  },
  {
   "cell_type": "code",
   "execution_count": 73,
   "metadata": {},
   "outputs": [],
   "source": [
    "optimizer = torch.optim.Adam(model.parameters(), lr=1e-4)\n",
    "loss_fn = torch.nn.CrossEntropyLoss()"
   ]
  },
  {
   "cell_type": "code",
   "execution_count": 74,
   "metadata": {},
   "outputs": [
    {
     "name": "stdout",
     "output_type": "stream",
     "text": [
      "0 0 tensor(2.4545, device='cuda:0', grad_fn=<NllLossBackward>)\n",
      "1 0 tensor(2.3095, device='cuda:0', grad_fn=<NllLossBackward>)\n",
      "2 0 tensor(2.2962, device='cuda:0', grad_fn=<NllLossBackward>)\n",
      "3 0 tensor(2.2780, device='cuda:0', grad_fn=<NllLossBackward>)\n",
      "4 0 tensor(2.3026, device='cuda:0', grad_fn=<NllLossBackward>)\n",
      "5 0 tensor(2.2908, device='cuda:0', grad_fn=<NllLossBackward>)\n",
      "6 0 tensor(2.2982, device='cuda:0', grad_fn=<NllLossBackward>)\n",
      "7 0 tensor(2.0922, device='cuda:0', grad_fn=<NllLossBackward>)\n",
      "8 0 tensor(1.7987, device='cuda:0', grad_fn=<NllLossBackward>)\n",
      "9 0 tensor(0.0519, device='cuda:0', grad_fn=<NllLossBackward>)\n"
     ]
    }
   ],
   "source": [
    "NUM_EPOCHS = 10\n",
    "\n",
    "for i in range(NUM_EPOCHS):\n",
    "    \n",
    "    for train_step, (x, y) in enumerate(train_dl):\n",
    "        \n",
    "        model.zero_grad()\n",
    "        output = model(x)\n",
    "        \n",
    "        loss = loss_fn(output.view((-1, output.size(-1))), y.view(-1))\n",
    "        \n",
    "        #print(output[0][:10])\n",
    "        if train_step % 100 == 0:\n",
    "            print(i, train_step, loss)\n",
    "        \n",
    "        #time.sleep(0.5)\n",
    "        \n",
    "        loss.backward()\n",
    "        optimizer.step()"
   ]
  },
  {
   "cell_type": "code",
   "execution_count": 43,
   "metadata": {},
   "outputs": [],
   "source": [
    "def get_output_for_example(x):\n",
    "    \n",
    "    logits = model(x.unsqueeze(0))\n",
    "    probs = torch.softmax(logits, dim=2)\n",
    "    out = torch.argmax(probs, 2)\n",
    "    \n",
    "    return out "
   ]
  },
  {
   "cell_type": "code",
   "execution_count": 44,
   "metadata": {},
   "outputs": [
    {
     "name": "stdout",
     "output_type": "stream",
     "text": [
      "X:\t tensor([4, 6, 5, 0, 0, 5, 3, 5, 0, 1, 7], device='cuda:0')\n",
      "y:\t tensor([7, 1, 0, 5, 3, 5, 0, 0, 5, 6, 4], device='cuda:0')\n",
      "y_hat:\t tensor([0, 0, 5, 0, 0, 5, 5, 5, 0, 5, 5], device='cuda:0')\n"
     ]
    }
   ],
   "source": [
    "x, y = train_ds[0]\n",
    "y_hat = get_output_for_example(x)\n",
    "\n",
    "print(\"X:\\t\", x)\n",
    "print(\"y:\\t\", y)\n",
    "print(\"y_hat:\\t\", y_hat.squeeze())"
   ]
  },
  {
   "cell_type": "code",
   "execution_count": 30,
   "metadata": {},
   "outputs": [
    {
     "name": "stdout",
     "output_type": "stream",
     "text": [
      "X:\t tensor([0, 1, 2, 3, 4, 5, 6, 7, 8, 9], device='cuda:0')\n",
      "y:\t tensor([9, 8, 7, 6, 5, 4, 3, 2, 1, 0], device='cuda:0')\n",
      "y_hat:\t tensor([9, 8, 7, 6, 5, 4, 3, 2, 1, 0], device='cuda:0')\n"
     ]
    }
   ],
   "source": [
    "x = torch.from_numpy(np.arange(SEQUENCE_LENGTH)).long().cuda()\n",
    "y = torch.flip(x, dims=(0,))\n",
    "y_hat = get_output_for_example(x)\n",
    "\n",
    "print(\"X:\\t\", x)\n",
    "print(\"y:\\t\", y)\n",
    "print(\"y_hat:\\t\", y_hat.squeeze())"
   ]
  },
  {
   "cell_type": "code",
   "execution_count": null,
   "metadata": {},
   "outputs": [],
   "source": []
  }
 ],
 "metadata": {
  "kernelspec": {
   "display_name": "Python (DL)",
   "language": "python",
   "name": "dl"
  },
  "language_info": {
   "codemirror_mode": {
    "name": "ipython",
    "version": 3
   },
   "file_extension": ".py",
   "mimetype": "text/x-python",
   "name": "python",
   "nbconvert_exporter": "python",
   "pygments_lexer": "ipython3",
   "version": "3.6.9"
  }
 },
 "nbformat": 4,
 "nbformat_minor": 2
}
