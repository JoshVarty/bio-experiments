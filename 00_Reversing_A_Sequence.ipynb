{
 "cells": [
  {
   "cell_type": "markdown",
   "metadata": {},
   "source": [
    "## Toy Problem 1\n",
    "\n",
    "\n",
    "I can't get my Transformer to work! Let's make the problem even simpler.\n",
    "\n",
    "Given a sequence of numbers, simply reverse the sequence.\n",
    "\n",
    "```\n",
    "input = 0 1 5 9 0 3 5 2 5\n",
    "reversed = 5 2 5 3 0 9 5 1 0\n",
    "```"
   ]
  },
  {
   "cell_type": "code",
   "execution_count": 1,
   "metadata": {},
   "outputs": [],
   "source": [
    "import torch\n",
    "import random\n",
    "import numpy as np\n",
    "\n",
    "from torch.utils.data import Dataset, DataLoader\n",
    "from transformers import BertConfig, BertModel\n",
    "\n",
    "from radam import RAdam\n",
    "from utils import get_accuracy, get_output_for_example, train"
   ]
  },
  {
   "cell_type": "code",
   "execution_count": 2,
   "metadata": {},
   "outputs": [],
   "source": [
    "def generate_data(num_examples: int, seq_len: int, vocab_size: int):\n",
    "    inputs = np.random.randint(0, vocab_size, size=(num_examples, seq_len))\n",
    "    outputs = np.ascontiguousarray(np.flip(inputs, 1)) #PyTorch can't handle negative strides\n",
    "\n",
    "    return inputs, outputs"
   ]
  },
  {
   "cell_type": "code",
   "execution_count": 3,
   "metadata": {},
   "outputs": [
    {
     "data": {
      "text/plain": [
       "(array([[3, 1, 2, 7, 6, 9, 1, 2, 6, 7]]),\n",
       " array([[7, 6, 2, 1, 9, 6, 7, 2, 1, 3]]))"
      ]
     },
     "execution_count": 3,
     "metadata": {},
     "output_type": "execute_result"
    }
   ],
   "source": [
    "generate_data(1, 10, 10)"
   ]
  },
  {
   "cell_type": "code",
   "execution_count": 4,
   "metadata": {},
   "outputs": [],
   "source": [
    "class ToyDataset(Dataset):\n",
    "   \n",
    "    def __init__(self, num_examples, sequence_length, vocab_size):\n",
    "        self.items, self.labels = generate_data(num_examples, sequence_length, vocab_size)\n",
    "        \n",
    "    def __getitem__(self, idx):\n",
    "        \n",
    "        x = torch.Tensor(self.items[idx]).long()\n",
    "        y = torch.Tensor(self.labels[idx]).long()\n",
    "        return x.cuda(), y.cuda()\n",
    "    \n",
    "    def __len__(self):\n",
    "        return len(self.items)"
   ]
  },
  {
   "cell_type": "code",
   "execution_count": 5,
   "metadata": {},
   "outputs": [],
   "source": [
    "SEQ_LENGTH = 5\n",
    "VOCAB_SIZE = 10\n",
    "\n",
    "TRN_EXAMPLES = 25\n",
    "VAL_EXAMPLES = 10\n",
    "BATCH_SIZE = 2\n",
    "LR = 1e-4"
   ]
  },
  {
   "cell_type": "code",
   "execution_count": 6,
   "metadata": {},
   "outputs": [],
   "source": [
    "train_ds = ToyDataset(num_examples=TRN_EXAMPLES, sequence_length=SEQ_LENGTH, vocab_size=VOCAB_SIZE)\n",
    "valid_ds = ToyDataset(num_examples=VAL_EXAMPLES, sequence_length=SEQ_LENGTH, vocab_size=VOCAB_SIZE)\n",
    "train_dl = DataLoader(train_ds, batch_size=BATCH_SIZE)\n",
    "valid_dl = DataLoader(train_ds, batch_size=BATCH_SIZE)"
   ]
  },
  {
   "cell_type": "code",
   "execution_count": 7,
   "metadata": {},
   "outputs": [],
   "source": [
    "class ToyModel(torch.nn.Module):\n",
    "    \"\"\"\n",
    "    Wrapper around a BERT model\n",
    "    \"\"\"\n",
    "    \n",
    "    def __init__(self, vocab_size):\n",
    "        super().__init__()\n",
    "        \n",
    "        # Untrained BERT Model\n",
    "        config = BertConfig(vocab_size_or_config_json_file=vocab_size)\n",
    "        self.bert_model = BertModel(config)\n",
    "        self.linear = torch.nn.Linear(in_features=768, out_features=vocab_size)\n",
    "        \n",
    "    def forward(self, x):    \n",
    "        out, _ = self.bert_model(x)\n",
    "        out = self.linear(out)\n",
    "        return out    "
   ]
  },
  {
   "cell_type": "code",
   "execution_count": 8,
   "metadata": {},
   "outputs": [],
   "source": [
    "model = ToyModel(VOCAB_SIZE)\n",
    "model = model.cuda()"
   ]
  },
  {
   "cell_type": "code",
   "execution_count": 9,
   "metadata": {},
   "outputs": [],
   "source": [
    "# NOTE: We use RAdam to avoid having to use warmup\n",
    "# If we use regular Adam, this usually won't converge for long sequences\n",
    "optimizer = RAdam(model.parameters(), lr=LR)\n",
    "loss_fn = torch.nn.CrossEntropyLoss()"
   ]
  },
  {
   "cell_type": "code",
   "execution_count": 12,
   "metadata": {},
   "outputs": [
    {
     "name": "stdout",
     "output_type": "stream",
     "text": [
      "Epoch:\t 0 \tStep:\t 0 \tLoss:\t 0.47337642312049866\n",
      "Epoch:\t 0 \t\t\tValid Accuracy\t 0.92307687\n",
      "Epoch:\t 1 \tStep:\t 0 \tLoss:\t 0.5742489099502563\n",
      "Epoch:\t 1 \t\t\tValid Accuracy\t 0.99230766\n",
      "Epoch:\t 2 \tStep:\t 0 \tLoss:\t 0.35289257764816284\n",
      "Epoch:\t 2 \t\t\tValid Accuracy\t 0.97692305\n",
      "Epoch:\t 3 \tStep:\t 0 \tLoss:\t 0.20394399762153625\n",
      "Epoch:\t 3 \t\t\tValid Accuracy\t 0.99230766\n",
      "Epoch:\t 4 \tStep:\t 0 \tLoss:\t 0.14109757542610168\n",
      "Epoch:\t 4 \t\t\tValid Accuracy\t 0.99230766\n",
      "Epoch:\t 5 \tStep:\t 0 \tLoss:\t 0.12724749743938446\n",
      "Epoch:\t 5 \t\t\tValid Accuracy\t 1.0\n",
      "Epoch:\t 6 \tStep:\t 0 \tLoss:\t 0.0702083557844162\n",
      "Epoch:\t 6 \t\t\tValid Accuracy\t 1.0\n",
      "Epoch:\t 7 \tStep:\t 0 \tLoss:\t 0.0712471455335617\n",
      "Epoch:\t 7 \t\t\tValid Accuracy\t 1.0\n",
      "Epoch:\t 8 \tStep:\t 0 \tLoss:\t 0.05714692920446396\n",
      "Epoch:\t 8 \t\t\tValid Accuracy\t 1.0\n",
      "Epoch:\t 9 \tStep:\t 0 \tLoss:\t 0.036658428609371185\n",
      "Epoch:\t 9 \t\t\tValid Accuracy\t 1.0\n"
     ]
    }
   ],
   "source": [
    "train(model, train_dl, valid_dl, loss_fn, optimizer, num_epochs=10, print_every=100)"
   ]
  },
  {
   "cell_type": "code",
   "execution_count": 13,
   "metadata": {},
   "outputs": [
    {
     "name": "stdout",
     "output_type": "stream",
     "text": [
      "X:\t tensor([3, 8, 6, 7, 7], device='cuda:0')\n",
      "y:\t tensor([7, 7, 6, 8, 3], device='cuda:0')\n",
      "y_hat:\t tensor([7, 7, 6, 8, 3], device='cuda:0')\n"
     ]
    }
   ],
   "source": [
    "x, y = train_ds[0]\n",
    "y_hat = get_output_for_example(model, x)\n",
    "\n",
    "print(\"X:\\t\", x)\n",
    "print(\"y:\\t\", y)\n",
    "print(\"y_hat:\\t\", y_hat.squeeze())"
   ]
  },
  {
   "cell_type": "code",
   "execution_count": 14,
   "metadata": {},
   "outputs": [
    {
     "name": "stdout",
     "output_type": "stream",
     "text": [
      "X:\t tensor([0, 1, 2, 3, 4], device='cuda:0')\n",
      "y:\t tensor([4, 3, 2, 1, 0], device='cuda:0')\n",
      "y_hat:\t tensor([1, 0, 2, 4, 3], device='cuda:0')\n"
     ]
    }
   ],
   "source": [
    "x = torch.from_numpy(np.arange(SEQ_LENGTH)).long().cuda()\n",
    "y = torch.flip(x, dims=(0,))\n",
    "y_hat = get_output_for_example(model, x)\n",
    "\n",
    "print(\"X:\\t\", x)\n",
    "print(\"y:\\t\", y)\n",
    "print(\"y_hat:\\t\", y_hat.squeeze())"
   ]
  }
 ],
 "metadata": {
  "kernelspec": {
   "display_name": "Python (DL)",
   "language": "python",
   "name": "dl"
  },
  "language_info": {
   "codemirror_mode": {
    "name": "ipython",
    "version": 3
   },
   "file_extension": ".py",
   "mimetype": "text/x-python",
   "name": "python",
   "nbconvert_exporter": "python",
   "pygments_lexer": "ipython3",
   "version": "3.6.9"
  }
 },
 "nbformat": 4,
 "nbformat_minor": 2
}
