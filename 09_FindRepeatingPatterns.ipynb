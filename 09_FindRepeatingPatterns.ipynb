{
 "cells": [
  {
   "cell_type": "markdown",
   "metadata": {},
   "source": [
    "## Find Tandem Repeats"
   ]
  },
  {
   "cell_type": "markdown",
   "metadata": {},
   "source": [
    "In some DNA sequences there are repeating patterns that are located directly next to one another. These are called [Tandem Repeats](https://en.wikipedia.org/wiki/Tandem_repeat) and are of some interest to biologists.\n",
    "\n",
    "\n",
    "`ACGTACGTAAACGTAAACGTAAACGTGTGTACACCCAAAGTCA`\n",
    "\n",
    "In the above sequence, `ACGTAA` is repeated three times. This might warrant a closer look?\n",
    "\n",
    "Let's create a model that can detect repeated patterns within these sequences."
   ]
  },
  {
   "cell_type": "markdown",
   "metadata": {},
   "source": [
    "### Creating a dataset"
   ]
  },
  {
   "cell_type": "markdown",
   "metadata": {},
   "source": [
    "We will create a dataset by \n",
    " - Randomly generating sequences of 100 random base pairs \n",
    " - Replacing elements of them with repeated patterns of \n",
    "   - Length 5-20. \n",
    "   - Patterns may be repeated 2-4 times."
   ]
  },
  {
   "cell_type": "code",
   "execution_count": 5,
   "metadata": {},
   "outputs": [],
   "source": [
    "import torch\n",
    "import random\n",
    "import numpy as np\n",
    "import matplotlib.pyplot as plt\n",
    "\n",
    "from radam import RAdam\n",
    "from torch.utils.data import Dataset, DataLoader\n",
    "from transformers import GPT2LMHeadModel, GPT2Config, GPT2PreTrainedModel, GPT2Model\n",
    "from transformers import BertConfig, BertModel"
   ]
  },
  {
   "cell_type": "code",
   "execution_count": 193,
   "metadata": {},
   "outputs": [],
   "source": [
    "DNA_BASE_LENGTH = 50\n",
    "NUM_EXAMPLES = 10000\n",
    "REPITION_LENGTH = 4\n",
    "NUM_REPEATS = 3\n",
    "\n",
    "train_seq = []\n",
    "train_idx = np.zeros((NUM_EXAMPLES, DNA_BASE_LENGTH), dtype=np.int)\n",
    "\n",
    "test = []\n",
    "\n",
    "# Create 100 random sequences of DNA bases\n",
    "for i, _ in enumerate(range(NUM_EXAMPLES)):\n",
    "    \n",
    "    dna_read = ''.join([random.choice('ACGT') for n in range(DNA_BASE_LENGTH)])\n",
    "    \n",
    "    # Build the repeated sequence\n",
    "    repetition_length = random.randint(REPITION_LENGTH, REPITION_LENGTH)\n",
    "    number_of_repeats = random.randint(NUM_REPEATS-1, NUM_REPEATS)\n",
    "    repeated_sequence = ''.join([random.choice('ACGT') for n in range(repetition_length)]) * number_of_repeats\n",
    "      \n",
    "    # Choose where to place the repetition\n",
    "    repeated_location = random.randint(0, len(dna_read) - len(repeated_sequence))\n",
    "\n",
    "    test.append(repeated_location)\n",
    "    \n",
    "    # Insert the string\n",
    "    new_dna_read = dna_read[0:repeated_location] + repeated_sequence + dna_read[repeated_location + len(repeated_sequence):]\n",
    "    \n",
    "    # Mark the indexes of the start of reptitions\n",
    "    for j in range(number_of_repeats):\n",
    "        #train_idx[i, repeated_location + (j * repetition_length)] = 1\n",
    "        cur_loc = repeated_location + (j * repetition_length)\n",
    "        train_idx[i, cur_loc:cur_loc+repetition_length] = 1\n",
    "   \n",
    "    train_seq.append(new_dna_read)"
   ]
  },
  {
   "cell_type": "code",
   "execution_count": 194,
   "metadata": {},
   "outputs": [
    {
     "data": {
      "text/plain": [
       "(array([1259.,  964., 1016.,  962.,  951., 1259.,  931.,  951.,  950.,\n",
       "         757.]),\n",
       " array([ 0. ,  4.2,  8.4, 12.6, 16.8, 21. , 25.2, 29.4, 33.6, 37.8, 42. ]),\n",
       " <a list of 10 Patch objects>)"
      ]
     },
     "execution_count": 194,
     "metadata": {},
     "output_type": "execute_result"
    },
    {
     "data": {
      "image/png": "[encoded data removed]",
      "text/plain": [
       "<Figure size 432x288 with 1 Axes>"
      ]
     },
     "metadata": {
      "needs_background": "light"
     },
     "output_type": "display_data"
    }
   ],
   "source": [
    "plt.hist(test)"
   ]
  },
  {
   "cell_type": "code",
   "execution_count": 195,
   "metadata": {},
   "outputs": [
    {
     "data": {
      "text/plain": [
       "[<matplotlib.lines.Line2D at 0x7f96a35b3eb8>]"
      ]
     },
     "execution_count": 195,
     "metadata": {},
     "output_type": "execute_result"
    },
    {
     "data": {
      "image/png": "[encoded data removed]",
      "text/plain": [
       "<Figure size 432x288 with 1 Axes>"
      ]
     },
     "metadata": {
      "needs_background": "light"
     },
     "output_type": "display_data"
    }
   ],
   "source": [
    "plt.plot(train_idx.sum(axis=0))"
   ]
  },
  {
   "cell_type": "code",
   "execution_count": 196,
   "metadata": {},
   "outputs": [
    {
     "data": {
      "text/plain": [
       "'CCAGCCAGCCAGCCGATAACCGGAATGGTAAATGGCGCTATTCCCGATTA'"
      ]
     },
     "execution_count": 196,
     "metadata": {},
     "output_type": "execute_result"
    }
   ],
   "source": [
    "train_seq[0]"
   ]
  },
  {
   "cell_type": "code",
   "execution_count": 197,
   "metadata": {},
   "outputs": [
    {
     "data": {
      "text/plain": [
       "array([0, 0, 1, 1, 1, 1, 1, 1, 1, 1, 1, 1, 1, 1, 0, 0, 0, 0, 0, 0, 0, 0,\n",
       "       0, 0, 0, 0, 0, 0, 0, 0, 0, 0, 0, 0, 0, 0, 0, 0, 0, 0, 0, 0, 0, 0,\n",
       "       0, 0, 0, 0, 0, 0])"
      ]
     },
     "execution_count": 197,
     "metadata": {},
     "output_type": "execute_result"
    }
   ],
   "source": [
    "train_idx[0]"
   ]
  },
  {
   "cell_type": "code",
   "execution_count": 198,
   "metadata": {},
   "outputs": [
    {
     "data": {
      "text/plain": [
       "array([[0, 0, 1, 1, 1, 1, 1, 1, 1, 1, 1, 1, 1, 1, 0, 0, 0, 0, 0, 0, 0, 0,\n",
       "        0, 0, 0, 0, 0, 0, 0, 0, 0, 0, 0, 0, 0, 0, 0, 0, 0, 0, 0, 0, 0, 0,\n",
       "        0, 0, 0, 0, 0, 0],\n",
       "       [0, 0, 0, 0, 0, 0, 0, 0, 0, 0, 0, 0, 0, 0, 0, 0, 0, 0, 0, 0, 0, 0,\n",
       "        0, 0, 0, 0, 0, 0, 0, 0, 0, 0, 0, 0, 0, 0, 0, 0, 1, 1, 1, 1, 1, 1,\n",
       "        1, 1, 1, 1, 1, 1],\n",
       "       [0, 0, 0, 0, 0, 0, 0, 0, 0, 0, 0, 0, 0, 0, 0, 0, 0, 0, 0, 0, 1, 1,\n",
       "        1, 1, 1, 1, 1, 1, 0, 0, 0, 0, 0, 0, 0, 0, 0, 0, 0, 0, 0, 0, 0, 0,\n",
       "        0, 0, 0, 0, 0, 0],\n",
       "       [0, 0, 0, 0, 0, 0, 0, 0, 0, 0, 0, 0, 0, 0, 0, 0, 0, 0, 0, 0, 0, 0,\n",
       "        0, 0, 0, 0, 0, 0, 0, 0, 0, 0, 0, 0, 0, 0, 0, 0, 0, 0, 0, 1, 1, 1,\n",
       "        1, 1, 1, 1, 1, 0],\n",
       "       [0, 0, 0, 0, 0, 0, 0, 0, 0, 0, 0, 0, 0, 0, 0, 0, 0, 0, 0, 0, 0, 0,\n",
       "        0, 0, 0, 0, 0, 0, 0, 0, 0, 1, 1, 1, 1, 1, 1, 1, 1, 1, 1, 1, 1, 0,\n",
       "        0, 0, 0, 0, 0, 0],\n",
       "       [0, 0, 0, 0, 0, 0, 0, 0, 0, 0, 0, 0, 0, 0, 0, 0, 0, 0, 1, 1, 1, 1,\n",
       "        1, 1, 1, 1, 1, 1, 1, 1, 0, 0, 0, 0, 0, 0, 0, 0, 0, 0, 0, 0, 0, 0,\n",
       "        0, 0, 0, 0, 0, 0],\n",
       "       [0, 0, 0, 0, 0, 0, 0, 0, 0, 0, 0, 1, 1, 1, 1, 1, 1, 1, 1, 1, 1, 1,\n",
       "        1, 0, 0, 0, 0, 0, 0, 0, 0, 0, 0, 0, 0, 0, 0, 0, 0, 0, 0, 0, 0, 0,\n",
       "        0, 0, 0, 0, 0, 0],\n",
       "       [0, 0, 0, 0, 0, 0, 1, 1, 1, 1, 1, 1, 1, 1, 1, 1, 1, 1, 0, 0, 0, 0,\n",
       "        0, 0, 0, 0, 0, 0, 0, 0, 0, 0, 0, 0, 0, 0, 0, 0, 0, 0, 0, 0, 0, 0,\n",
       "        0, 0, 0, 0, 0, 0],\n",
       "       [0, 0, 0, 0, 0, 0, 0, 0, 0, 0, 0, 0, 0, 0, 0, 0, 0, 0, 0, 0, 0, 0,\n",
       "        0, 0, 0, 0, 0, 1, 1, 1, 1, 1, 1, 1, 1, 1, 1, 1, 1, 0, 0, 0, 0, 0,\n",
       "        0, 0, 0, 0, 0, 0],\n",
       "       [0, 0, 0, 0, 1, 1, 1, 1, 1, 1, 1, 1, 0, 0, 0, 0, 0, 0, 0, 0, 0, 0,\n",
       "        0, 0, 0, 0, 0, 0, 0, 0, 0, 0, 0, 0, 0, 0, 0, 0, 0, 0, 0, 0, 0, 0,\n",
       "        0, 0, 0, 0, 0, 0]])"
      ]
     },
     "execution_count": 198,
     "metadata": {},
     "output_type": "execute_result"
    }
   ],
   "source": [
    "train_idx[:10]"
   ]
  },
  {
   "cell_type": "markdown",
   "metadata": {},
   "source": [
    "**TODO:** Handle accidentally repeated sequences. (For example we might have \"CC\" at the beginning or end of our sequence by chance)"
   ]
  },
  {
   "cell_type": "markdown",
   "metadata": {},
   "source": [
    "## Train a model"
   ]
  },
  {
   "cell_type": "code",
   "execution_count": 200,
   "metadata": {},
   "outputs": [],
   "source": [
    "class TandemRepeatDataset(Dataset):\n",
    "    \"\"\"\n",
    "    A PyTorch Dataset that handles simple tokenization of our DNA base sequences.\n",
    "    \"\"\"\n",
    "    \n",
    "    def __init__(self, train_seq, train_idx):\n",
    "        \n",
    "        self.mapping = {'A':0, 'C': 1, 'G': 2, 'T': 3}\n",
    "        self.train_seq = self.tokenize(train_seq)\n",
    "        self.train_idx = train_idx\n",
    "        \n",
    "    def tokenize(self, train_seq):\n",
    "        tokenized_seq = []\n",
    "        \n",
    "        for seq in train_seq:\n",
    "            token_seq = [self.mapping[char] for char in seq]\n",
    "            tokenized_seq.append(token_seq)\n",
    "       \n",
    "        return tokenized_seq\n",
    "    \n",
    "    def __getitem__(self, idx):\n",
    "        \n",
    "        x = torch.Tensor(self.train_seq[idx]).long()\n",
    "        y = torch.Tensor(self.train_idx[idx]).long()\n",
    "        return x, y\n",
    "    \n",
    "    def __len__(self):\n",
    "        return len(self.train_seq)\n"
   ]
  },
  {
   "cell_type": "code",
   "execution_count": 201,
   "metadata": {},
   "outputs": [],
   "source": [
    "BATCH_SIZE = 10"
   ]
  },
  {
   "cell_type": "code",
   "execution_count": 202,
   "metadata": {},
   "outputs": [],
   "source": [
    "train_dataset = TandemRepeatDataset(train_seq, train_idx)\n",
    "train_dl = DataLoader(train_dataset, batch_size=BATCH_SIZE)"
   ]
  },
  {
   "cell_type": "code",
   "execution_count": 203,
   "metadata": {},
   "outputs": [],
   "source": [
    "# GPT2 Model\n",
    "#config = GPT2Config.from_pretrained('gpt2', cache_dir=None)\n",
    "#model = GPT2Model.from_pretrained('gpt2', from_tf=False, config=config, cache_dir='.')"
   ]
  },
  {
   "cell_type": "code",
   "execution_count": 204,
   "metadata": {},
   "outputs": [],
   "source": [
    "class TandemRepeatModel(torch.nn.Module):\n",
    "    \"\"\"\n",
    "    Wrapper around a BERT model that predicts a single binary output for each input token\n",
    "    \"\"\"\n",
    "    \n",
    "    def __init__(self):\n",
    "        super().__init__()\n",
    "        \n",
    "        # Untrained BERT Model\n",
    "        config = BertConfig(vocab_size_or_config_json_file=4)\n",
    "        self.bert_model = BertModel(config)\n",
    "\n",
    "        self.linear =  torch.nn.Linear(in_features=768, out_features=2)\n",
    "        \n",
    "    def forward(self, x):    \n",
    "        out, _ = self.bert_model(x)\n",
    "        out = self.linear(out)\n",
    "        return out    "
   ]
  },
  {
   "cell_type": "code",
   "execution_count": 225,
   "metadata": {},
   "outputs": [],
   "source": [
    "# BERT Model\n",
    "model = TandemRepeatModel()"
   ]
  },
  {
   "cell_type": "code",
   "execution_count": 226,
   "metadata": {},
   "outputs": [],
   "source": [
    "optimizer = RAdam(model.parameters(), lr=1e-5)\n",
    "loss_fn = torch.nn.CrossEntropyLoss()"
   ]
  },
  {
   "cell_type": "code",
   "execution_count": 227,
   "metadata": {
    "scrolled": true
   },
   "outputs": [
    {
     "name": "stdout",
     "output_type": "stream",
     "text": [
      "tensor(0.7983, grad_fn=<NllLossBackward>)\n",
      "tensor(0.7952, grad_fn=<NllLossBackward>)\n",
      "tensor(0.7929, grad_fn=<NllLossBackward>)\n",
      "tensor(0.8051, grad_fn=<NllLossBackward>)\n",
      "tensor(0.7806, grad_fn=<NllLossBackward>)\n",
      "tensor(0.7839, grad_fn=<NllLossBackward>)\n",
      "tensor(0.7274, grad_fn=<NllLossBackward>)\n",
      "tensor(0.7225, grad_fn=<NllLossBackward>)\n",
      "tensor(0.6729, grad_fn=<NllLossBackward>)\n",
      "tensor(0.6571, grad_fn=<NllLossBackward>)\n",
      "tensor(0.6402, grad_fn=<NllLossBackward>)\n",
      "tensor(0.5987, grad_fn=<NllLossBackward>)\n",
      "tensor(0.5690, grad_fn=<NllLossBackward>)\n",
      "tensor(0.5559, grad_fn=<NllLossBackward>)\n",
      "tensor(0.5609, grad_fn=<NllLossBackward>)\n",
      "tensor(0.5519, grad_fn=<NllLossBackward>)\n",
      "tensor(0.5608, grad_fn=<NllLossBackward>)\n",
      "tensor(0.5324, grad_fn=<NllLossBackward>)\n",
      "tensor(0.5034, grad_fn=<NllLossBackward>)\n",
      "tensor(0.5319, grad_fn=<NllLossBackward>)\n",
      "tensor(0.5210, grad_fn=<NllLossBackward>)\n",
      "tensor(0.5451, grad_fn=<NllLossBackward>)\n",
      "tensor(0.5569, grad_fn=<NllLossBackward>)\n",
      "tensor(0.5766, grad_fn=<NllLossBackward>)\n",
      "tensor(0.5358, grad_fn=<NllLossBackward>)\n",
      "tensor(0.5703, grad_fn=<NllLossBackward>)\n",
      "tensor(0.5643, grad_fn=<NllLossBackward>)\n",
      "tensor(0.6224, grad_fn=<NllLossBackward>)\n",
      "tensor(0.5553, grad_fn=<NllLossBackward>)\n",
      "tensor(0.5375, grad_fn=<NllLossBackward>)\n",
      "tensor(0.5968, grad_fn=<NllLossBackward>)\n",
      "tensor(0.6071, grad_fn=<NllLossBackward>)\n",
      "tensor(0.5380, grad_fn=<NllLossBackward>)\n",
      "tensor(0.5406, grad_fn=<NllLossBackward>)\n",
      "tensor(0.4923, grad_fn=<NllLossBackward>)\n",
      "tensor(0.5524, grad_fn=<NllLossBackward>)\n",
      "tensor(0.4801, grad_fn=<NllLossBackward>)\n",
      "tensor(0.5192, grad_fn=<NllLossBackward>)\n",
      "tensor(0.5155, grad_fn=<NllLossBackward>)\n",
      "tensor(0.4738, grad_fn=<NllLossBackward>)\n",
      "tensor(0.5124, grad_fn=<NllLossBackward>)\n",
      "tensor(0.4977, grad_fn=<NllLossBackward>)\n",
      "tensor(0.5069, grad_fn=<NllLossBackward>)\n",
      "tensor(0.5152, grad_fn=<NllLossBackward>)\n",
      "tensor(0.5398, grad_fn=<NllLossBackward>)\n",
      "tensor(0.5190, grad_fn=<NllLossBackward>)\n",
      "tensor(0.4921, grad_fn=<NllLossBackward>)\n",
      "tensor(0.5250, grad_fn=<NllLossBackward>)\n",
      "tensor(0.4960, grad_fn=<NllLossBackward>)\n",
      "tensor(0.4832, grad_fn=<NllLossBackward>)\n",
      "tensor(0.5114, grad_fn=<NllLossBackward>)\n",
      "tensor(0.5276, grad_fn=<NllLossBackward>)\n",
      "tensor(0.5206, grad_fn=<NllLossBackward>)\n",
      "tensor(0.5273, grad_fn=<NllLossBackward>)\n",
      "tensor(0.4854, grad_fn=<NllLossBackward>)\n",
      "tensor(0.4969, grad_fn=<NllLossBackward>)\n",
      "tensor(0.4804, grad_fn=<NllLossBackward>)\n",
      "tensor(0.4927, grad_fn=<NllLossBackward>)\n",
      "tensor(0.4959, grad_fn=<NllLossBackward>)\n",
      "tensor(0.4738, grad_fn=<NllLossBackward>)\n",
      "tensor(0.5026, grad_fn=<NllLossBackward>)\n",
      "tensor(0.5078, grad_fn=<NllLossBackward>)\n",
      "tensor(0.5230, grad_fn=<NllLossBackward>)\n",
      "tensor(0.5119, grad_fn=<NllLossBackward>)\n",
      "tensor(0.5090, grad_fn=<NllLossBackward>)\n",
      "tensor(0.5053, grad_fn=<NllLossBackward>)\n",
      "tensor(0.4948, grad_fn=<NllLossBackward>)\n",
      "tensor(0.5043, grad_fn=<NllLossBackward>)\n",
      "tensor(0.5114, grad_fn=<NllLossBackward>)\n",
      "tensor(0.4985, grad_fn=<NllLossBackward>)\n",
      "tensor(0.4963, grad_fn=<NllLossBackward>)\n",
      "tensor(0.5390, grad_fn=<NllLossBackward>)\n",
      "tensor(0.4893, grad_fn=<NllLossBackward>)\n",
      "tensor(0.4779, grad_fn=<NllLossBackward>)\n",
      "tensor(0.4735, grad_fn=<NllLossBackward>)\n",
      "tensor(0.4864, grad_fn=<NllLossBackward>)\n",
      "tensor(0.5408, grad_fn=<NllLossBackward>)\n",
      "tensor(0.5009, grad_fn=<NllLossBackward>)\n",
      "tensor(0.5318, grad_fn=<NllLossBackward>)\n",
      "tensor(0.4957, grad_fn=<NllLossBackward>)\n",
      "tensor(0.5009, grad_fn=<NllLossBackward>)\n",
      "tensor(0.4996, grad_fn=<NllLossBackward>)\n",
      "tensor(0.4933, grad_fn=<NllLossBackward>)\n",
      "tensor(0.4870, grad_fn=<NllLossBackward>)\n",
      "tensor(0.4837, grad_fn=<NllLossBackward>)\n",
      "tensor(0.5005, grad_fn=<NllLossBackward>)\n",
      "tensor(0.5169, grad_fn=<NllLossBackward>)\n",
      "tensor(0.4612, grad_fn=<NllLossBackward>)\n",
      "tensor(0.5412, grad_fn=<NllLossBackward>)\n",
      "tensor(0.4737, grad_fn=<NllLossBackward>)\n",
      "tensor(0.5100, grad_fn=<NllLossBackward>)\n",
      "tensor(0.5362, grad_fn=<NllLossBackward>)\n",
      "tensor(0.5045, grad_fn=<NllLossBackward>)\n",
      "tensor(0.5187, grad_fn=<NllLossBackward>)\n",
      "tensor(0.5139, grad_fn=<NllLossBackward>)\n",
      "tensor(0.4915, grad_fn=<NllLossBackward>)\n",
      "tensor(0.4793, grad_fn=<NllLossBackward>)\n",
      "tensor(0.5213, grad_fn=<NllLossBackward>)\n",
      "tensor(0.4735, grad_fn=<NllLossBackward>)\n",
      "tensor(0.5014, grad_fn=<NllLossBackward>)\n",
      "tensor(0.4852, grad_fn=<NllLossBackward>)\n",
      "tensor(0.5361, grad_fn=<NllLossBackward>)\n",
      "tensor(0.4807, grad_fn=<NllLossBackward>)\n",
      "tensor(0.5029, grad_fn=<NllLossBackward>)\n",
      "tensor(0.5055, grad_fn=<NllLossBackward>)\n",
      "tensor(0.4692, grad_fn=<NllLossBackward>)\n",
      "tensor(0.4889, grad_fn=<NllLossBackward>)\n",
      "tensor(0.5155, grad_fn=<NllLossBackward>)\n",
      "tensor(0.4793, grad_fn=<NllLossBackward>)\n",
      "tensor(0.4826, grad_fn=<NllLossBackward>)\n",
      "tensor(0.4912, grad_fn=<NllLossBackward>)\n",
      "tensor(0.5170, grad_fn=<NllLossBackward>)\n",
      "tensor(0.5187, grad_fn=<NllLossBackward>)\n",
      "tensor(0.5150, grad_fn=<NllLossBackward>)\n",
      "tensor(0.4875, grad_fn=<NllLossBackward>)\n",
      "tensor(0.5210, grad_fn=<NllLossBackward>)\n",
      "tensor(0.4823, grad_fn=<NllLossBackward>)\n",
      "tensor(0.4889, grad_fn=<NllLossBackward>)\n",
      "tensor(0.5133, grad_fn=<NllLossBackward>)\n",
      "tensor(0.5090, grad_fn=<NllLossBackward>)\n",
      "tensor(0.4827, grad_fn=<NllLossBackward>)\n",
      "tensor(0.5135, grad_fn=<NllLossBackward>)\n",
      "tensor(0.5050, grad_fn=<NllLossBackward>)\n",
      "tensor(0.4860, grad_fn=<NllLossBackward>)\n",
      "tensor(0.5118, grad_fn=<NllLossBackward>)\n",
      "tensor(0.5214, grad_fn=<NllLossBackward>)\n",
      "tensor(0.4879, grad_fn=<NllLossBackward>)\n",
      "tensor(0.4874, grad_fn=<NllLossBackward>)\n",
      "tensor(0.5271, grad_fn=<NllLossBackward>)\n",
      "tensor(0.4681, grad_fn=<NllLossBackward>)\n",
      "tensor(0.5007, grad_fn=<NllLossBackward>)\n",
      "tensor(0.5251, grad_fn=<NllLossBackward>)\n",
      "tensor(0.5253, grad_fn=<NllLossBackward>)\n",
      "tensor(0.5299, grad_fn=<NllLossBackward>)\n",
      "tensor(0.4774, grad_fn=<NllLossBackward>)\n",
      "tensor(0.4973, grad_fn=<NllLossBackward>)\n",
      "tensor(0.4929, grad_fn=<NllLossBackward>)\n",
      "tensor(0.5100, grad_fn=<NllLossBackward>)\n",
      "tensor(0.4788, grad_fn=<NllLossBackward>)\n",
      "tensor(0.5057, grad_fn=<NllLossBackward>)\n",
      "tensor(0.5325, grad_fn=<NllLossBackward>)\n",
      "tensor(0.5196, grad_fn=<NllLossBackward>)\n",
      "tensor(0.5056, grad_fn=<NllLossBackward>)\n",
      "tensor(0.4810, grad_fn=<NllLossBackward>)\n",
      "tensor(0.5278, grad_fn=<NllLossBackward>)\n",
      "tensor(0.4905, grad_fn=<NllLossBackward>)\n"
     ]
    },
    {
     "ename": "KeyboardInterrupt",
     "evalue": "",
     "output_type": "error",
     "traceback": [
      "\u001b[0;31m---------------------------------------------------------------------------\u001b[0m",
      "\u001b[0;31mKeyboardInterrupt\u001b[0m                         Traceback (most recent call last)",
      "\u001b[0;32m<ipython-input-227-fab65f56831c>\u001b[0m in \u001b[0;36m<module>\u001b[0;34m\u001b[0m\n\u001b[1;32m     15\u001b[0m \u001b[0;34m\u001b[0m\u001b[0m\n\u001b[1;32m     16\u001b[0m         \u001b[0mloss\u001b[0m\u001b[0;34m.\u001b[0m\u001b[0mbackward\u001b[0m\u001b[0;34m(\u001b[0m\u001b[0;34m)\u001b[0m\u001b[0;34m\u001b[0m\u001b[0;34m\u001b[0m\u001b[0m\n\u001b[0;32m---> 17\u001b[0;31m         \u001b[0moptimizer\u001b[0m\u001b[0;34m.\u001b[0m\u001b[0mstep\u001b[0m\u001b[0;34m(\u001b[0m\u001b[0;34m)\u001b[0m\u001b[0;34m\u001b[0m\u001b[0;34m\u001b[0m\u001b[0m\n\u001b[0m",
      "\u001b[0;32m~/git/bio-experiments/radam.py\u001b[0m in \u001b[0;36mstep\u001b[0;34m(self, closure)\u001b[0m\n\u001b[1;32m     56\u001b[0m                 \u001b[0mbeta1\u001b[0m\u001b[0;34m,\u001b[0m \u001b[0mbeta2\u001b[0m \u001b[0;34m=\u001b[0m \u001b[0mgroup\u001b[0m\u001b[0;34m[\u001b[0m\u001b[0;34m'betas'\u001b[0m\u001b[0;34m]\u001b[0m\u001b[0;34m\u001b[0m\u001b[0;34m\u001b[0m\u001b[0m\n\u001b[1;32m     57\u001b[0m \u001b[0;34m\u001b[0m\u001b[0m\n\u001b[0;32m---> 58\u001b[0;31m                 \u001b[0mexp_avg_sq\u001b[0m\u001b[0;34m.\u001b[0m\u001b[0mmul_\u001b[0m\u001b[0;34m(\u001b[0m\u001b[0mbeta2\u001b[0m\u001b[0;34m)\u001b[0m\u001b[0;34m.\u001b[0m\u001b[0maddcmul_\u001b[0m\u001b[0;34m(\u001b[0m\u001b[0;36m1\u001b[0m \u001b[0;34m-\u001b[0m \u001b[0mbeta2\u001b[0m\u001b[0;34m,\u001b[0m \u001b[0mgrad\u001b[0m\u001b[0;34m,\u001b[0m \u001b[0mgrad\u001b[0m\u001b[0;34m)\u001b[0m\u001b[0;34m\u001b[0m\u001b[0;34m\u001b[0m\u001b[0m\n\u001b[0m\u001b[1;32m     59\u001b[0m                 \u001b[0mexp_avg\u001b[0m\u001b[0;34m.\u001b[0m\u001b[0mmul_\u001b[0m\u001b[0;34m(\u001b[0m\u001b[0mbeta1\u001b[0m\u001b[0;34m)\u001b[0m\u001b[0;34m.\u001b[0m\u001b[0madd_\u001b[0m\u001b[0;34m(\u001b[0m\u001b[0;36m1\u001b[0m \u001b[0;34m-\u001b[0m \u001b[0mbeta1\u001b[0m\u001b[0;34m,\u001b[0m \u001b[0mgrad\u001b[0m\u001b[0;34m)\u001b[0m\u001b[0;34m\u001b[0m\u001b[0;34m\u001b[0m\u001b[0m\n\u001b[1;32m     60\u001b[0m \u001b[0;34m\u001b[0m\u001b[0m\n",
      "\u001b[0;31mKeyboardInterrupt\u001b[0m: "
     ]
    }
   ],
   "source": [
    "NUM_EPOCHS = 1000\n",
    "\n",
    "for i in range(NUM_EPOCHS):\n",
    "    \n",
    "    for x, y in train_dl:\n",
    "        \n",
    "        model.zero_grad()\n",
    "        output = model(x)\n",
    "        loss = loss_fn(output.view((-1, output.size(-1))), y.view(-1))\n",
    "        \n",
    "        #print(output[0][:10])\n",
    "        print(loss)\n",
    "        \n",
    "        #time.sleep(0.5)\n",
    "        \n",
    "        loss.backward()\n",
    "        optimizer.step()"
   ]
  },
  {
   "cell_type": "code",
   "execution_count": 208,
   "metadata": {},
   "outputs": [],
   "source": [
    "x, y = train_dataset[0]"
   ]
  },
  {
   "cell_type": "code",
   "execution_count": 211,
   "metadata": {},
   "outputs": [
    {
     "data": {
      "text/plain": [
       "tensor([1, 1, 0, 2, 1, 1, 0, 2, 1, 1, 0, 2, 1, 1, 2, 0, 3, 0, 0, 1, 1, 2, 2, 0,\n",
       "        0, 3, 2, 2, 3, 0, 0, 0, 3, 2, 2, 1, 2, 1, 3, 0, 3, 3, 1, 1, 1, 2, 0, 3,\n",
       "        3, 0])"
      ]
     },
     "execution_count": 211,
     "metadata": {},
     "output_type": "execute_result"
    }
   ],
   "source": [
    "x"
   ]
  },
  {
   "cell_type": "code",
   "execution_count": 213,
   "metadata": {},
   "outputs": [
    {
     "data": {
      "text/plain": [
       "tensor([0, 0, 1, 1, 1, 1, 1, 1, 1, 1, 1, 1, 1, 1, 0, 0, 0, 0, 0, 0, 0, 0, 0, 0,\n",
       "        0, 0, 0, 0, 0, 0, 0, 0, 0, 0, 0, 0, 0, 0, 0, 0, 0, 0, 0, 0, 0, 0, 0, 0,\n",
       "        0, 0])"
      ]
     },
     "execution_count": 213,
     "metadata": {},
     "output_type": "execute_result"
    }
   ],
   "source": [
    "y"
   ]
  },
  {
   "cell_type": "code",
   "execution_count": 221,
   "metadata": {},
   "outputs": [
    {
     "data": {
      "text/plain": [
       "tensor([[[0.9763, 0.0237],\n",
       "         [0.9563, 0.0437],\n",
       "         [0.9158, 0.0842],\n",
       "         [0.9249, 0.0751],\n",
       "         [0.9106, 0.0894],\n",
       "         [0.8710, 0.1290],\n",
       "         [0.8490, 0.1510],\n",
       "         [0.8327, 0.1673],\n",
       "         [0.8456, 0.1544],\n",
       "         [0.8550, 0.1450],\n",
       "         [0.8065, 0.1935],\n",
       "         [0.8091, 0.1909],\n",
       "         [0.8185, 0.1815],\n",
       "         [0.8061, 0.1939],\n",
       "         [0.8041, 0.1959],\n",
       "         [0.7797, 0.2203],\n",
       "         [0.8033, 0.1967],\n",
       "         [0.8258, 0.1742],\n",
       "         [0.8069, 0.1931],\n",
       "         [0.7772, 0.2228],\n",
       "         [0.8042, 0.1958],\n",
       "         [0.7610, 0.2390],\n",
       "         [0.8469, 0.1531],\n",
       "         [0.7643, 0.2357],\n",
       "         [0.7979, 0.2021],\n",
       "         [0.7833, 0.2167],\n",
       "         [0.7693, 0.2307],\n",
       "         [0.7656, 0.2344],\n",
       "         [0.8053, 0.1947],\n",
       "         [0.7570, 0.2430],\n",
       "         [0.7168, 0.2832],\n",
       "         [0.7914, 0.2086],\n",
       "         [0.8576, 0.1424],\n",
       "         [0.7900, 0.2100],\n",
       "         [0.7508, 0.2492],\n",
       "         [0.8122, 0.1878],\n",
       "         [0.8043, 0.1957],\n",
       "         [0.7653, 0.2347],\n",
       "         [0.7579, 0.2421],\n",
       "         [0.7496, 0.2504],\n",
       "         [0.8200, 0.1800],\n",
       "         [0.8655, 0.1345],\n",
       "         [0.8175, 0.1825],\n",
       "         [0.8438, 0.1562],\n",
       "         [0.8512, 0.1488],\n",
       "         [0.9237, 0.0763],\n",
       "         [0.8766, 0.1234],\n",
       "         [0.9300, 0.0700],\n",
       "         [0.9585, 0.0415],\n",
       "         [0.9725, 0.0275]]], grad_fn=<SoftmaxBackward>)"
      ]
     },
     "execution_count": 221,
     "metadata": {},
     "output_type": "execute_result"
    }
   ],
   "source": [
    "torch.softmax(model(x.unsqueeze(0)), dim=2)"
   ]
  },
  {
   "cell_type": "code",
   "execution_count": null,
   "metadata": {},
   "outputs": [],
   "source": []
  },
  {
   "cell_type": "code",
   "execution_count": null,
   "metadata": {},
   "outputs": [],
   "source": []
  }
 ],
 "metadata": {
  "kernelspec": {
   "display_name": "Python (DL)",
   "language": "python",
   "name": "dl"
  },
  "language_info": {
   "codemirror_mode": {
    "name": "ipython",
    "version": 3
   },
   "file_extension": ".py",
   "mimetype": "text/x-python",
   "name": "python",
   "nbconvert_exporter": "python",
   "pygments_lexer": "ipython3",
   "version": "3.6.9"
  }
 },
 "nbformat": 4,
 "nbformat_minor": 2
}
