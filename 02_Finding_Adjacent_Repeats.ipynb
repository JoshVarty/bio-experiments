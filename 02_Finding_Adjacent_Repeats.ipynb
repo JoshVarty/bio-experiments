{
 "cells": [
  {
   "cell_type": "markdown",
   "metadata": {},
   "source": [
    "## Finding Adjacent Repeats\n",
    "\n",
    "\n",
    "Given a sequence of numbers, find and mark adjacent repeats. Repeats can be of length 3-10.\n",
    "\n",
    "```\n",
    "input  = 0 3 5 9 3 3 5 2 5\n",
    "output = 0 0 0 0 1 1 0 0 0\n",
    "\n",
    "input  = 1 2 2 2 2 2 3 1 5\n",
    "output = 0 1 1 1 1 1 0 0 0\n",
    "\n",
    "```"
   ]
  },
  {
   "cell_type": "code",
   "execution_count": 62,
   "metadata": {},
   "outputs": [],
   "source": [
    "import torch\n",
    "import numpy as np\n",
    "\n",
    "from radam import RAdam\n",
    "from torch.utils.data import DataLoader, Dataset\n",
    "from transformers import BertConfig, BertModel\n",
    "\n",
    "from utils import train, get_output_for_example, plot_losses"
   ]
  },
  {
   "cell_type": "code",
   "execution_count": 63,
   "metadata": {},
   "outputs": [],
   "source": [
    "def generate_data(num_examples: int, seq_len: int, vocab_size: int):\n",
    "    inputs = np.random.randint(0, vocab_size, size=(num_examples, seq_len))\n",
    "    outputs = np.zeros_like(inputs)\n",
    "    \n",
    "    for i in range(len(inputs)):\n",
    "        \n",
    "        # choose number of duplicates to introduce\n",
    "        num_duplicates = np.random.randint(3, 5)\n",
    "        \n",
    "        # choose random location to introduce our duplicates\n",
    "        location = np.random.randint(0, len(inputs[i]) - num_duplicates)\n",
    "        \n",
    "        # Choose what number we'd like to repeat\n",
    "        number_to_repeat = np.random.randint(0, vocab_size)\n",
    "        \n",
    "        inputs[i][location:location + num_duplicates] = number_to_repeat\n",
    "        \n",
    "        # Mark location where duplicates exist\n",
    "        outputs[i][location:location + num_duplicates] = 1\n",
    "        \n",
    "\n",
    "    return inputs, outputs"
   ]
  },
  {
   "cell_type": "code",
   "execution_count": 64,
   "metadata": {},
   "outputs": [
    {
     "data": {
      "text/plain": [
       "(array([[467, 467, 467, 467, 827,  97, 318, 535, 393, 695]]),\n",
       " array([[1, 1, 1, 1, 0, 0, 0, 0, 0, 0]]))"
      ]
     },
     "execution_count": 64,
     "metadata": {},
     "output_type": "execute_result"
    }
   ],
   "source": [
    "# We're lazy so we're going to just use a large vocabulary \n",
    "# instead of manually removing accidental duplicates\n",
    "generate_data(num_examples=1, seq_len=10, vocab_size=1000)"
   ]
  },
  {
   "cell_type": "code",
   "execution_count": 65,
   "metadata": {},
   "outputs": [],
   "source": [
    "class ToyDataset(Dataset):\n",
    "   \n",
    "    def __init__(self, num_examples, sequence_length, vocab_size):\n",
    "        self.items, self.labels = generate_data(num_examples, sequence_length, vocab_size)\n",
    "        \n",
    "    def __getitem__(self, idx):\n",
    "        \n",
    "        x = torch.Tensor(self.items[idx]).long()\n",
    "        y = torch.Tensor(self.labels[idx]).long()\n",
    "        return x.cuda(), y.cuda()\n",
    "    \n",
    "    def __len__(self):\n",
    "        return len(self.items)"
   ]
  },
  {
   "cell_type": "code",
   "execution_count": 66,
   "metadata": {},
   "outputs": [],
   "source": [
    "class ToyModel(torch.nn.Module):\n",
    "    \"\"\"\n",
    "    Wrapper around a BERT model that predicts a single binary output for each input token\n",
    "    \"\"\"\n",
    "    \n",
    "    def __init__(self, vocab_size):\n",
    "        super().__init__()\n",
    "        \n",
    "        # Untrained BERT Model\n",
    "        config = BertConfig(vocab_size_or_config_json_file=vocab_size)\n",
    "        self.bert_model = BertModel(config)\n",
    "        self.linear = torch.nn.Linear(in_features=768, out_features=2)\n",
    "        \n",
    "    def forward(self, x):    \n",
    "        out, _ = self.bert_model(x)\n",
    "        out = self.linear(out)\n",
    "        return out    "
   ]
  },
  {
   "cell_type": "code",
   "execution_count": 67,
   "metadata": {},
   "outputs": [],
   "source": [
    "TRN_EXAMPLES = 10000\n",
    "VAL_EXAMPLES = 1000\n",
    "SEQUENCE_LENGTH = 10\n",
    "VOCAB_SIZE = 1000\n",
    "BATCH_SIZE = 32\n",
    "\n",
    "train_ds = ToyDataset(num_examples=TRN_EXAMPLES, sequence_length=SEQUENCE_LENGTH, vocab_size=VOCAB_SIZE)\n",
    "valid_ds = ToyDataset(num_examples=VAL_EXAMPLES, sequence_length=SEQUENCE_LENGTH, vocab_size=VOCAB_SIZE)\n",
    "train_dl = DataLoader(train_ds, batch_size=BATCH_SIZE)\n",
    "valid_dl = DataLoader(valid_ds, batch_size=BATCH_SIZE)"
   ]
  },
  {
   "cell_type": "code",
   "execution_count": 68,
   "metadata": {},
   "outputs": [],
   "source": [
    "model = ToyModel(VOCAB_SIZE)\n",
    "model = model.cuda()"
   ]
  },
  {
   "cell_type": "code",
   "execution_count": 69,
   "metadata": {},
   "outputs": [],
   "source": [
    "# NOTE: We use RAdam to avoid having to use warmup\n",
    "# If we use regular Adam, this usually won't converge for long sequences\n",
    "optimizer = RAdam(model.parameters(), lr=1e-4)\n",
    "loss_fn = torch.nn.CrossEntropyLoss()"
   ]
  },
  {
   "cell_type": "code",
   "execution_count": 70,
   "metadata": {},
   "outputs": [
    {
     "name": "stdout",
     "output_type": "stream",
     "text": [
      "Epoch:\t 0 \tStep:\t 0 \tLoss:\t 0.7466895580291748\n",
      "Epoch:\t 0 \tStep:\t 100 \tLoss:\t 0.5742200613021851\n",
      "Epoch:\t 0 \tStep:\t 200 \tLoss:\t 0.5781816840171814\n",
      "Epoch:\t 0 \tStep:\t 300 \tLoss:\t 0.5500578284263611\n",
      "Epoch:\t 0 \t\t\tValid Accuracy\t 0.6586914\n",
      "Epoch:\t 1 \tStep:\t 0 \tLoss:\t 0.5566102266311646\n",
      "Epoch:\t 1 \tStep:\t 100 \tLoss:\t 0.5791091322898865\n",
      "Epoch:\t 1 \tStep:\t 200 \tLoss:\t 0.5728290677070618\n",
      "Epoch:\t 1 \tStep:\t 300 \tLoss:\t 0.5278732776641846\n",
      "Epoch:\t 1 \t\t\tValid Accuracy\t 0.69248044\n",
      "Epoch:\t 2 \tStep:\t 0 \tLoss:\t 0.5383020043373108\n",
      "Epoch:\t 2 \tStep:\t 100 \tLoss:\t 0.5000514984130859\n",
      "Epoch:\t 2 \tStep:\t 200 \tLoss:\t 0.3650267720222473\n",
      "Epoch:\t 2 \tStep:\t 300 \tLoss:\t 0.32407498359680176\n",
      "Epoch:\t 2 \t\t\tValid Accuracy\t 0.8146484\n",
      "Epoch:\t 3 \tStep:\t 0 \tLoss:\t 0.3183962106704712\n",
      "Epoch:\t 3 \tStep:\t 100 \tLoss:\t 0.35692742466926575\n",
      "Epoch:\t 3 \tStep:\t 200 \tLoss:\t 0.22187435626983643\n",
      "Epoch:\t 3 \tStep:\t 300 \tLoss:\t 0.09352169930934906\n",
      "Epoch:\t 3 \t\t\tValid Accuracy\t 0.90527344\n",
      "Epoch:\t 4 \tStep:\t 0 \tLoss:\t 0.16367337107658386\n",
      "Epoch:\t 4 \tStep:\t 100 \tLoss:\t 0.0777161493897438\n",
      "Epoch:\t 4 \tStep:\t 200 \tLoss:\t 0.0786789134144783\n",
      "Epoch:\t 4 \tStep:\t 300 \tLoss:\t 0.12335968017578125\n",
      "Epoch:\t 4 \t\t\tValid Accuracy\t 0.9554688\n",
      "Epoch:\t 5 \tStep:\t 0 \tLoss:\t 0.0536767952144146\n",
      "Epoch:\t 5 \tStep:\t 100 \tLoss:\t 0.05081061273813248\n",
      "Epoch:\t 5 \tStep:\t 200 \tLoss:\t 0.04596385359764099\n",
      "Epoch:\t 5 \tStep:\t 300 \tLoss:\t 0.0130564970895648\n",
      "Epoch:\t 5 \t\t\tValid Accuracy\t 0.9700195\n",
      "Epoch:\t 6 \tStep:\t 0 \tLoss:\t 0.06662438064813614\n",
      "Epoch:\t 6 \tStep:\t 100 \tLoss:\t 0.03225220739841461\n",
      "Epoch:\t 6 \tStep:\t 200 \tLoss:\t 0.01232038252055645\n",
      "Epoch:\t 6 \tStep:\t 300 \tLoss:\t 0.03609733283519745\n",
      "Epoch:\t 6 \t\t\tValid Accuracy\t 0.9814453\n",
      "Epoch:\t 7 \tStep:\t 0 \tLoss:\t 0.012087746523320675\n",
      "Epoch:\t 7 \tStep:\t 100 \tLoss:\t 0.04121715947985649\n",
      "Epoch:\t 7 \tStep:\t 200 \tLoss:\t 0.0611274316906929\n",
      "Epoch:\t 7 \tStep:\t 300 \tLoss:\t 0.014088764786720276\n",
      "Epoch:\t 7 \t\t\tValid Accuracy\t 0.9832032\n",
      "Epoch:\t 8 \tStep:\t 0 \tLoss:\t 0.03635895252227783\n",
      "Epoch:\t 8 \tStep:\t 100 \tLoss:\t 0.026613930240273476\n",
      "Epoch:\t 8 \tStep:\t 200 \tLoss:\t 0.014089561998844147\n",
      "Epoch:\t 8 \tStep:\t 300 \tLoss:\t 0.0010594103951007128\n",
      "Epoch:\t 8 \t\t\tValid Accuracy\t 0.9841797\n",
      "Epoch:\t 9 \tStep:\t 0 \tLoss:\t 0.017376383766531944\n",
      "Epoch:\t 9 \tStep:\t 100 \tLoss:\t 0.003116487991064787\n",
      "Epoch:\t 9 \tStep:\t 200 \tLoss:\t 0.002720871474593878\n",
      "Epoch:\t 9 \tStep:\t 300 \tLoss:\t 0.02019079588353634\n",
      "Epoch:\t 9 \t\t\tValid Accuracy\t 0.9832032\n"
     ]
    }
   ],
   "source": [
    "train_loss, valid_loss, valid_acc = train(model, train_dl, valid_dl, loss_fn, optimizer, num_epochs=15)"
   ]
  },
  {
   "cell_type": "code",
   "execution_count": 71,
   "metadata": {},
   "outputs": [
    {
     "data": {
      "image/png": "[encoded data removed]",
      "text/plain": [
       "<Figure size 432x288 with 1 Axes>"
      ]
     },
     "metadata": {
      "needs_background": "light"
     },
     "output_type": "display_data"
    }
   ],
   "source": [
    "plot_losses(train_loss, valid_loss, valid_acc)"
   ]
  },
  {
   "cell_type": "code",
   "execution_count": 77,
   "metadata": {},
   "outputs": [
    {
     "name": "stdout",
     "output_type": "stream",
     "text": [
      "X:\t tensor([188, 311, 311, 311, 311, 311, 794,  34, 627, 848], device='cuda:0')\n",
      "y:\t tensor([0, 1, 1, 1, 1, 0, 0, 0, 0, 0], device='cuda:0')\n",
      "y_hat:\t tensor([0, 1, 1, 1, 1, 1, 0, 0, 0, 0], device='cuda:0')\n"
     ]
    }
   ],
   "source": [
    "# Check if we're learned how to perform on items in the train dataset\n",
    "x, y = valid_ds[10]\n",
    "y_hat = get_output_for_example(model, x)\n",
    "\n",
    "print(\"X:\\t\", x)\n",
    "print(\"y:\\t\", y)\n",
    "print(\"y_hat:\\t\", y_hat.squeeze())"
   ]
  },
  {
   "cell_type": "code",
   "execution_count": null,
   "metadata": {},
   "outputs": [],
   "source": []
  }
 ],
 "metadata": {
  "kernelspec": {
   "display_name": "Python (DL)",
   "language": "python",
   "name": "dl"
  },
  "language_info": {
   "codemirror_mode": {
    "name": "ipython",
    "version": 3
   },
   "file_extension": ".py",
   "mimetype": "text/x-python",
   "name": "python",
   "nbconvert_exporter": "python",
   "pygments_lexer": "ipython3",
   "version": "3.6.9"
  }
 },
 "nbformat": 4,
 "nbformat_minor": 2
}
