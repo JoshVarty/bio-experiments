{
 "cells": [
  {
   "cell_type": "markdown",
   "metadata": {},
   "source": [
    "## Finding Adjacent Repeats\n",
    "\n",
    "\n",
    "Given a sequence of numbers, find and mark adjacent repeats. Repeats can be of length 3-10.\n",
    "\n",
    "```\n",
    "input  = 0 3 5 9 3 3 5 2 5\n",
    "output = 0 0 0 0 1 1 0 0 0\n",
    "\n",
    "input  = 1 2 2 2 2 2 3 1 5\n",
    "output = 0 1 1 1 1 1 0 0 0\n",
    "\n",
    "```"
   ]
  },
  {
   "cell_type": "code",
   "execution_count": 1,
   "metadata": {},
   "outputs": [],
   "source": [
    "import torch\n",
    "import numpy as np\n",
    "\n",
    "from radam import RAdam\n",
    "from torch.utils.data import DataLoader, Dataset\n",
    "from transformers import BertConfig, BertModel\n",
    "\n",
    "from utils import train, get_output_for_example, plot_losses"
   ]
  },
  {
   "cell_type": "code",
   "execution_count": 2,
   "metadata": {},
   "outputs": [],
   "source": [
    "def generate_data(num_examples: int, seq_len: int, vocab_size: int):\n",
    "    inputs = np.random.randint(0, vocab_size, size=(num_examples, seq_len))\n",
    "    outputs = np.zeros_like(inputs)\n",
    "    \n",
    "    for i in range(len(inputs)):\n",
    "        \n",
    "        # choose number of duplicates to introduce\n",
    "        num_duplicates = np.random.randint(3, 5)\n",
    "        \n",
    "        # choose random location to introduce our duplicates\n",
    "        location = np.random.randint(0, len(inputs[i]) - num_duplicates)\n",
    "        \n",
    "        # Choose what number we'd like to repeat\n",
    "        number_to_repeat = np.random.randint(0, vocab_size)\n",
    "        \n",
    "        inputs[i][location:location + num_duplicates] = number_to_repeat\n",
    "        \n",
    "        # Mark location where duplicates exist\n",
    "        outputs[i][location:location + num_duplicates] = 1\n",
    "        \n",
    "\n",
    "    return inputs, outputs"
   ]
  },
  {
   "cell_type": "code",
   "execution_count": 3,
   "metadata": {},
   "outputs": [
    {
     "data": {
      "text/plain": [
       "(array([[475, 380, 981, 981, 981, 237, 840,   5, 314, 260]]),\n",
       " array([[0, 0, 1, 1, 1, 0, 0, 0, 0, 0]]))"
      ]
     },
     "execution_count": 3,
     "metadata": {},
     "output_type": "execute_result"
    }
   ],
   "source": [
    "# We're lazy so we're going to just use a large vocabulary \n",
    "# instead of manually removing accidental duplicates\n",
    "generate_data(num_examples=1, seq_len=10, vocab_size=1000)"
   ]
  },
  {
   "cell_type": "code",
   "execution_count": 4,
   "metadata": {},
   "outputs": [],
   "source": [
    "class ToyDataset(Dataset):\n",
    "   \n",
    "    def __init__(self, num_examples, sequence_length, vocab_size):\n",
    "        self.items, self.labels = generate_data(num_examples, sequence_length, vocab_size)\n",
    "        \n",
    "    def __getitem__(self, idx):\n",
    "        \n",
    "        x = torch.Tensor(self.items[idx]).long()\n",
    "        y = torch.Tensor(self.labels[idx]).long()\n",
    "        return x.cuda(), y.cuda()\n",
    "    \n",
    "    def __len__(self):\n",
    "        return len(self.items)"
   ]
  },
  {
   "cell_type": "code",
   "execution_count": 5,
   "metadata": {},
   "outputs": [],
   "source": [
    "class ToyModel(torch.nn.Module):\n",
    "    \"\"\"\n",
    "    Wrapper around a BERT model that predicts a single binary output for each input token\n",
    "    \"\"\"\n",
    "    \n",
    "    def __init__(self, vocab_size):\n",
    "        super().__init__()\n",
    "        \n",
    "        # Untrained BERT Model\n",
    "        config = BertConfig(vocab_size_or_config_json_file=vocab_size)\n",
    "        self.bert_model = BertModel(config)\n",
    "        self.linear = torch.nn.Linear(in_features=768, out_features=2)\n",
    "        \n",
    "    def forward(self, x):    \n",
    "        out, _ = self.bert_model(x)\n",
    "        out = self.linear(out)\n",
    "        return out    "
   ]
  },
  {
   "cell_type": "code",
   "execution_count": 6,
   "metadata": {},
   "outputs": [],
   "source": [
    "TRN_EXAMPLES = 10000\n",
    "VAL_EXAMPLES = 1000\n",
    "SEQUENCE_LENGTH = 10\n",
    "VOCAB_SIZE = 1000\n",
    "BATCH_SIZE = 32\n",
    "\n",
    "train_ds = ToyDataset(num_examples=TRN_EXAMPLES, sequence_length=SEQUENCE_LENGTH, vocab_size=VOCAB_SIZE)\n",
    "valid_ds = ToyDataset(num_examples=VAL_EXAMPLES, sequence_length=SEQUENCE_LENGTH, vocab_size=VOCAB_SIZE)\n",
    "train_dl = DataLoader(train_ds, batch_size=BATCH_SIZE)\n",
    "valid_dl = DataLoader(valid_ds, batch_size=BATCH_SIZE)"
   ]
  },
  {
   "cell_type": "code",
   "execution_count": 7,
   "metadata": {},
   "outputs": [],
   "source": [
    "model = ToyModel(VOCAB_SIZE)\n",
    "model = model.cuda()\n",
    "\n",
    "optimizer = RAdam(model.parameters(), lr=1e-4)\n",
    "loss_fn = torch.nn.CrossEntropyLoss()"
   ]
  },
  {
   "cell_type": "code",
   "execution_count": 8,
   "metadata": {},
   "outputs": [
    {
     "name": "stdout",
     "output_type": "stream",
     "text": [
      "Epoch:\t 0 \tStep:\t 0 \tLoss:\t 0.890581488609314\n",
      "Epoch:\t 0 \tStep:\t 100 \tLoss:\t 0.5771373510360718\n",
      "Epoch:\t 0 \tStep:\t 200 \tLoss:\t 0.5610588788986206\n",
      "Epoch:\t 0 \tStep:\t 300 \tLoss:\t 0.5657771825790405\n",
      "Epoch:\t 0 \t\t\tValid Accuracy\t 0.6695313\n",
      "Epoch:\t 1 \tStep:\t 0 \tLoss:\t 0.5565302968025208\n",
      "Epoch:\t 1 \tStep:\t 100 \tLoss:\t 0.5528160333633423\n",
      "Epoch:\t 1 \tStep:\t 200 \tLoss:\t 0.5403848886489868\n",
      "Epoch:\t 1 \tStep:\t 300 \tLoss:\t 0.5481529235839844\n",
      "Epoch:\t 1 \t\t\tValid Accuracy\t 0.6753906\n",
      "Epoch:\t 2 \tStep:\t 0 \tLoss:\t 0.5384029150009155\n",
      "Epoch:\t 2 \tStep:\t 100 \tLoss:\t 0.5046723484992981\n",
      "Epoch:\t 2 \tStep:\t 200 \tLoss:\t 0.45656818151474\n",
      "Epoch:\t 2 \tStep:\t 300 \tLoss:\t 0.25312915444374084\n",
      "Epoch:\t 2 \t\t\tValid Accuracy\t 0.88935554\n",
      "Epoch:\t 3 \tStep:\t 0 \tLoss:\t 0.21757574379444122\n",
      "Epoch:\t 3 \tStep:\t 100 \tLoss:\t 0.13225282728672028\n",
      "Epoch:\t 3 \tStep:\t 200 \tLoss:\t 0.16024447977542877\n",
      "Epoch:\t 3 \tStep:\t 300 \tLoss:\t 0.07912291586399078\n",
      "Epoch:\t 3 \t\t\tValid Accuracy\t 0.96591794\n",
      "Epoch:\t 4 \tStep:\t 0 \tLoss:\t 0.09946979582309723\n",
      "Epoch:\t 4 \tStep:\t 100 \tLoss:\t 0.03905955329537392\n",
      "Epoch:\t 4 \tStep:\t 200 \tLoss:\t 0.04399336129426956\n",
      "Epoch:\t 4 \tStep:\t 300 \tLoss:\t 0.012514288537204266\n",
      "Epoch:\t 4 \t\t\tValid Accuracy\t 0.98447263\n",
      "Epoch:\t 5 \tStep:\t 0 \tLoss:\t 0.019914250820875168\n",
      "Epoch:\t 5 \tStep:\t 100 \tLoss:\t 0.03438200801610947\n",
      "Epoch:\t 5 \tStep:\t 200 \tLoss:\t 0.008060989901423454\n",
      "Epoch:\t 5 \tStep:\t 300 \tLoss:\t 0.2260715216398239\n",
      "Epoch:\t 5 \t\t\tValid Accuracy\t 0.96865237\n",
      "Epoch:\t 6 \tStep:\t 0 \tLoss:\t 0.05672486871480942\n",
      "Epoch:\t 6 \tStep:\t 100 \tLoss:\t 0.023180637508630753\n",
      "Epoch:\t 6 \tStep:\t 200 \tLoss:\t 0.08796337991952896\n",
      "Epoch:\t 6 \tStep:\t 300 \tLoss:\t 0.02259446308016777\n",
      "Epoch:\t 6 \t\t\tValid Accuracy\t 0.98789066\n",
      "Epoch:\t 7 \tStep:\t 0 \tLoss:\t 0.017555544152855873\n",
      "Epoch:\t 7 \tStep:\t 100 \tLoss:\t 0.01272717397660017\n",
      "Epoch:\t 7 \tStep:\t 200 \tLoss:\t 0.005664209835231304\n",
      "Epoch:\t 7 \tStep:\t 300 \tLoss:\t 0.03851860389113426\n",
      "Epoch:\t 7 \t\t\tValid Accuracy\t 0.98164064\n",
      "Epoch:\t 8 \tStep:\t 0 \tLoss:\t 0.06818636506795883\n",
      "Epoch:\t 8 \tStep:\t 100 \tLoss:\t 0.038757577538490295\n",
      "Epoch:\t 8 \tStep:\t 200 \tLoss:\t 0.008705250918865204\n",
      "Epoch:\t 8 \tStep:\t 300 \tLoss:\t 0.015457376837730408\n",
      "Epoch:\t 8 \t\t\tValid Accuracy\t 0.9871094\n",
      "Epoch:\t 9 \tStep:\t 0 \tLoss:\t 0.023762870579957962\n",
      "Epoch:\t 9 \tStep:\t 100 \tLoss:\t 0.0069733611308038235\n",
      "Epoch:\t 9 \tStep:\t 200 \tLoss:\t 0.026434462517499924\n",
      "Epoch:\t 9 \tStep:\t 300 \tLoss:\t 0.07009140402078629\n",
      "Epoch:\t 9 \t\t\tValid Accuracy\t 0.9874023\n",
      "Epoch:\t 10 \tStep:\t 0 \tLoss:\t 0.014922541566193104\n",
      "Epoch:\t 10 \tStep:\t 100 \tLoss:\t 0.007227656897157431\n",
      "Epoch:\t 10 \tStep:\t 200 \tLoss:\t 0.04753456264734268\n",
      "Epoch:\t 10 \tStep:\t 300 \tLoss:\t 0.06426455825567245\n",
      "Epoch:\t 10 \t\t\tValid Accuracy\t 0.97626954\n",
      "Epoch:\t 11 \tStep:\t 0 \tLoss:\t 0.043185580521821976\n",
      "Epoch:\t 11 \tStep:\t 100 \tLoss:\t 0.02012740448117256\n",
      "Epoch:\t 11 \tStep:\t 200 \tLoss:\t 0.004174693021923304\n",
      "Epoch:\t 11 \tStep:\t 300 \tLoss:\t 0.027962494641542435\n",
      "Epoch:\t 11 \t\t\tValid Accuracy\t 0.99121094\n",
      "Epoch:\t 12 \tStep:\t 0 \tLoss:\t 0.012058481574058533\n",
      "Epoch:\t 12 \tStep:\t 100 \tLoss:\t 0.00029734522104263306\n",
      "Epoch:\t 12 \tStep:\t 200 \tLoss:\t 0.0119283152744174\n",
      "Epoch:\t 12 \tStep:\t 300 \tLoss:\t 0.0013744242023676634\n",
      "Epoch:\t 12 \t\t\tValid Accuracy\t 0.9863281\n",
      "Epoch:\t 13 \tStep:\t 0 \tLoss:\t 0.05712732672691345\n",
      "Epoch:\t 13 \tStep:\t 100 \tLoss:\t 0.030195068567991257\n",
      "Epoch:\t 13 \tStep:\t 200 \tLoss:\t 0.006251854356378317\n",
      "Epoch:\t 13 \tStep:\t 300 \tLoss:\t 0.0004870921256951988\n",
      "Epoch:\t 13 \t\t\tValid Accuracy\t 0.9865235\n",
      "Epoch:\t 14 \tStep:\t 0 \tLoss:\t 0.006677904166281223\n",
      "Epoch:\t 14 \tStep:\t 100 \tLoss:\t 0.06355968117713928\n",
      "Epoch:\t 14 \tStep:\t 200 \tLoss:\t 0.006291487719863653\n",
      "Epoch:\t 14 \tStep:\t 300 \tLoss:\t 0.012768015265464783\n",
      "Epoch:\t 14 \t\t\tValid Accuracy\t 0.98828125\n"
     ]
    }
   ],
   "source": [
    "train_loss, valid_loss, valid_acc = train(model, train_dl, valid_dl, loss_fn, optimizer, num_epochs=15)"
   ]
  },
  {
   "cell_type": "code",
   "execution_count": 9,
   "metadata": {},
   "outputs": [
    {
     "data": {
      "image/png": "[encoded data removed]",
      "text/plain": [
       "<Figure size 432x288 with 1 Axes>"
      ]
     },
     "metadata": {
      "needs_background": "light"
     },
     "output_type": "display_data"
    }
   ],
   "source": [
    "plot_losses(train_loss, valid_loss, valid_acc)"
   ]
  },
  {
   "cell_type": "code",
   "execution_count": 10,
   "metadata": {},
   "outputs": [
    {
     "name": "stdout",
     "output_type": "stream",
     "text": [
      "X:\t tensor([292,  45, 112, 699, 233, 930, 992, 992, 992, 607], device='cuda:0')\n",
      "y:\t tensor([0, 0, 0, 0, 0, 0, 1, 1, 1, 0], device='cuda:0')\n",
      "y_hat:\t tensor([0, 0, 0, 0, 0, 0, 1, 1, 1, 0], device='cuda:0')\n"
     ]
    }
   ],
   "source": [
    "# Check if we're learned how to perform on items in the valid dataset\n",
    "x, y = valid_ds[10]\n",
    "y_hat = get_output_for_example(model, x)\n",
    "\n",
    "print(\"X:\\t\", x)\n",
    "print(\"y:\\t\", y)\n",
    "print(\"y_hat:\\t\", y_hat.squeeze())"
   ]
  },
  {
   "cell_type": "markdown",
   "metadata": {},
   "source": [
    "### Longer Sequences"
   ]
  },
  {
   "cell_type": "markdown",
   "metadata": {},
   "source": [
    "Let's try to train on longer sequences. We'll first train on the \"easy\" problem of a sequence of length 10 then train the model on the \"hard\" problem of a sequence of length 100."
   ]
  },
  {
   "cell_type": "code",
   "execution_count": 11,
   "metadata": {},
   "outputs": [],
   "source": [
    "TRN_EXAMPLES = 10000\n",
    "VAL_EXAMPLES = 1000\n",
    "SEQUENCE_LENGTH = 10\n",
    "VOCAB_SIZE = 1000\n",
    "BATCH_SIZE = 32\n",
    "\n",
    "train_ds = ToyDataset(num_examples=TRN_EXAMPLES, sequence_length=SEQUENCE_LENGTH, vocab_size=VOCAB_SIZE)\n",
    "valid_ds = ToyDataset(num_examples=VAL_EXAMPLES, sequence_length=SEQUENCE_LENGTH, vocab_size=VOCAB_SIZE)\n",
    "train_dl = DataLoader(train_ds, batch_size=BATCH_SIZE)\n",
    "valid_dl = DataLoader(valid_ds, batch_size=BATCH_SIZE)"
   ]
  },
  {
   "cell_type": "code",
   "execution_count": 12,
   "metadata": {},
   "outputs": [],
   "source": [
    "model = ToyModel(VOCAB_SIZE)\n",
    "model = model.cuda()\n",
    "\n",
    "optimizer = RAdam(model.parameters(), lr=1e-4)\n",
    "loss_fn = torch.nn.CrossEntropyLoss()"
   ]
  },
  {
   "cell_type": "code",
   "execution_count": 13,
   "metadata": {},
   "outputs": [
    {
     "name": "stdout",
     "output_type": "stream",
     "text": [
      "Epoch:\t 0 \tStep:\t 0 \tLoss:\t 0.9250129461288452\n",
      "Epoch:\t 0 \tStep:\t 100 \tLoss:\t 0.5955852270126343\n",
      "Epoch:\t 0 \tStep:\t 200 \tLoss:\t 0.5816855430603027\n",
      "Epoch:\t 0 \tStep:\t 300 \tLoss:\t 0.5760510563850403\n",
      "Epoch:\t 0 \t\t\tValid Accuracy\t 0.66445315\n",
      "Epoch:\t 1 \tStep:\t 0 \tLoss:\t 0.5530246496200562\n",
      "Epoch:\t 1 \tStep:\t 100 \tLoss:\t 0.5733128190040588\n",
      "Epoch:\t 1 \tStep:\t 200 \tLoss:\t 0.5920308828353882\n",
      "Epoch:\t 1 \tStep:\t 300 \tLoss:\t 0.5701488256454468\n",
      "Epoch:\t 1 \t\t\tValid Accuracy\t 0.6817383\n",
      "Epoch:\t 2 \tStep:\t 0 \tLoss:\t 0.5380566120147705\n",
      "Epoch:\t 2 \tStep:\t 100 \tLoss:\t 0.5614832639694214\n",
      "Epoch:\t 2 \tStep:\t 200 \tLoss:\t 0.5434988141059875\n",
      "Epoch:\t 2 \tStep:\t 300 \tLoss:\t 0.46481695771217346\n",
      "Epoch:\t 2 \t\t\tValid Accuracy\t 0.80996096\n",
      "Epoch:\t 3 \tStep:\t 0 \tLoss:\t 0.35209327936172485\n",
      "Epoch:\t 3 \tStep:\t 100 \tLoss:\t 0.1793084442615509\n",
      "Epoch:\t 3 \tStep:\t 200 \tLoss:\t 0.17567577958106995\n",
      "Epoch:\t 3 \tStep:\t 300 \tLoss:\t 0.13645941019058228\n",
      "Epoch:\t 3 \t\t\tValid Accuracy\t 0.9751953\n",
      "Epoch:\t 4 \tStep:\t 0 \tLoss:\t 0.053748197853565216\n",
      "Epoch:\t 4 \tStep:\t 100 \tLoss:\t 0.04698294401168823\n",
      "Epoch:\t 4 \tStep:\t 200 \tLoss:\t 0.04694678634405136\n",
      "Epoch:\t 4 \tStep:\t 300 \tLoss:\t 0.04143147170543671\n",
      "Epoch:\t 4 \t\t\tValid Accuracy\t 0.98427737\n",
      "Epoch:\t 5 \tStep:\t 0 \tLoss:\t 0.021366123110055923\n",
      "Epoch:\t 5 \tStep:\t 100 \tLoss:\t 0.04386625438928604\n",
      "Epoch:\t 5 \tStep:\t 200 \tLoss:\t 0.05136948823928833\n",
      "Epoch:\t 5 \tStep:\t 300 \tLoss:\t 0.006702205631881952\n",
      "Epoch:\t 5 \t\t\tValid Accuracy\t 0.9934571\n",
      "Epoch:\t 6 \tStep:\t 0 \tLoss:\t 0.01098425593227148\n",
      "Epoch:\t 6 \tStep:\t 100 \tLoss:\t 0.022479768842458725\n",
      "Epoch:\t 6 \tStep:\t 200 \tLoss:\t 0.01962338760495186\n",
      "Epoch:\t 6 \tStep:\t 300 \tLoss:\t 0.02892788127064705\n",
      "Epoch:\t 6 \t\t\tValid Accuracy\t 0.9874023\n",
      "Epoch:\t 7 \tStep:\t 0 \tLoss:\t 0.03105594776570797\n",
      "Epoch:\t 7 \tStep:\t 100 \tLoss:\t 0.006779950112104416\n",
      "Epoch:\t 7 \tStep:\t 200 \tLoss:\t 0.007664316799491644\n",
      "Epoch:\t 7 \tStep:\t 300 \tLoss:\t 0.07415197044610977\n",
      "Epoch:\t 7 \t\t\tValid Accuracy\t 0.9790039\n",
      "Epoch:\t 8 \tStep:\t 0 \tLoss:\t 0.02823450043797493\n",
      "Epoch:\t 8 \tStep:\t 100 \tLoss:\t 0.009629812091588974\n",
      "Epoch:\t 8 \tStep:\t 200 \tLoss:\t 0.059074513614177704\n",
      "Epoch:\t 8 \tStep:\t 300 \tLoss:\t 0.007242616266012192\n",
      "Epoch:\t 8 \t\t\tValid Accuracy\t 0.98359376\n",
      "Epoch:\t 9 \tStep:\t 0 \tLoss:\t 0.008114362135529518\n",
      "Epoch:\t 9 \tStep:\t 100 \tLoss:\t 0.014419959858059883\n",
      "Epoch:\t 9 \tStep:\t 200 \tLoss:\t 0.022145800292491913\n",
      "Epoch:\t 9 \tStep:\t 300 \tLoss:\t 0.0029033429455012083\n",
      "Epoch:\t 9 \t\t\tValid Accuracy\t 0.9899415\n",
      "Epoch:\t 10 \tStep:\t 0 \tLoss:\t 0.002794090658426285\n",
      "Epoch:\t 10 \tStep:\t 100 \tLoss:\t 0.0011109840124845505\n",
      "Epoch:\t 10 \tStep:\t 200 \tLoss:\t 0.0070410678163170815\n",
      "Epoch:\t 10 \tStep:\t 300 \tLoss:\t 0.006921824999153614\n",
      "Epoch:\t 10 \t\t\tValid Accuracy\t 0.98232424\n",
      "Epoch:\t 11 \tStep:\t 0 \tLoss:\t 0.00697659095749259\n",
      "Epoch:\t 11 \tStep:\t 100 \tLoss:\t 0.017711792141199112\n",
      "Epoch:\t 11 \tStep:\t 200 \tLoss:\t 0.005169481039047241\n",
      "Epoch:\t 11 \tStep:\t 300 \tLoss:\t 0.013019805774092674\n",
      "Epoch:\t 11 \t\t\tValid Accuracy\t 0.98408204\n",
      "Epoch:\t 12 \tStep:\t 0 \tLoss:\t 0.0027076248079538345\n",
      "Epoch:\t 12 \tStep:\t 100 \tLoss:\t 0.0641530454158783\n",
      "Epoch:\t 12 \tStep:\t 200 \tLoss:\t 0.03929410129785538\n",
      "Epoch:\t 12 \tStep:\t 300 \tLoss:\t 0.010922887362539768\n",
      "Epoch:\t 12 \t\t\tValid Accuracy\t 0.9947266\n",
      "Epoch:\t 13 \tStep:\t 0 \tLoss:\t 0.0004868805408477783\n",
      "Epoch:\t 13 \tStep:\t 100 \tLoss:\t 0.11964593827724457\n",
      "Epoch:\t 13 \tStep:\t 200 \tLoss:\t 0.006531321909278631\n",
      "Epoch:\t 13 \tStep:\t 300 \tLoss:\t 0.0038591318298131227\n",
      "Epoch:\t 13 \t\t\tValid Accuracy\t 0.9953125\n",
      "Epoch:\t 14 \tStep:\t 0 \tLoss:\t 0.015268580988049507\n",
      "Epoch:\t 14 \tStep:\t 100 \tLoss:\t 0.0010650329058989882\n",
      "Epoch:\t 14 \tStep:\t 200 \tLoss:\t 0.018635541200637817\n",
      "Epoch:\t 14 \tStep:\t 300 \tLoss:\t 0.0009631829452700913\n",
      "Epoch:\t 14 \t\t\tValid Accuracy\t 0.99492186\n"
     ]
    }
   ],
   "source": [
    "train_loss, valid_loss, valid_acc = train(model, train_dl, valid_dl, loss_fn, optimizer, num_epochs=15)"
   ]
  },
  {
   "cell_type": "code",
   "execution_count": 14,
   "metadata": {},
   "outputs": [
    {
     "name": "stdout",
     "output_type": "stream",
     "text": [
      "Epoch:\t 0 \tStep:\t 0 \tLoss:\t 0.9379016757011414\n",
      "Epoch:\t 0 \tStep:\t 100 \tLoss:\t 0.16653968393802643\n",
      "Epoch:\t 0 \tStep:\t 200 \tLoss:\t 0.154115229845047\n",
      "Epoch:\t 0 \tStep:\t 300 \tLoss:\t 0.14558014273643494\n",
      "Epoch:\t 0 \t\t\tValid Accuracy\t 0.96512693\n",
      "Epoch:\t 1 \tStep:\t 0 \tLoss:\t 0.14455558359622955\n",
      "Epoch:\t 1 \tStep:\t 100 \tLoss:\t 0.1411665976047516\n",
      "Epoch:\t 1 \tStep:\t 200 \tLoss:\t 0.14367051422595978\n",
      "Epoch:\t 1 \tStep:\t 300 \tLoss:\t 0.13851766288280487\n",
      "Epoch:\t 1 \t\t\tValid Accuracy\t 0.9657422\n",
      "Epoch:\t 2 \tStep:\t 0 \tLoss:\t 0.12604351341724396\n",
      "Epoch:\t 2 \tStep:\t 100 \tLoss:\t 0.12480984628200531\n",
      "Epoch:\t 2 \tStep:\t 200 \tLoss:\t 0.12089099735021591\n",
      "Epoch:\t 2 \tStep:\t 300 \tLoss:\t 0.1095748022198677\n",
      "Epoch:\t 2 \t\t\tValid Accuracy\t 0.9663867\n",
      "Epoch:\t 3 \tStep:\t 0 \tLoss:\t 0.09278164058923721\n",
      "Epoch:\t 3 \tStep:\t 100 \tLoss:\t 0.08953101933002472\n",
      "Epoch:\t 3 \tStep:\t 200 \tLoss:\t 0.08794236928224564\n",
      "Epoch:\t 3 \tStep:\t 300 \tLoss:\t 0.07854132354259491\n",
      "Epoch:\t 3 \t\t\tValid Accuracy\t 0.97169924\n",
      "Epoch:\t 4 \tStep:\t 0 \tLoss:\t 0.06345358490943909\n",
      "Epoch:\t 4 \tStep:\t 100 \tLoss:\t 0.07071392238140106\n",
      "Epoch:\t 4 \tStep:\t 200 \tLoss:\t 0.058828435838222504\n",
      "Epoch:\t 4 \tStep:\t 300 \tLoss:\t 0.06921133399009705\n",
      "Epoch:\t 4 \t\t\tValid Accuracy\t 0.97841793\n",
      "Epoch:\t 5 \tStep:\t 0 \tLoss:\t 0.04339658096432686\n",
      "Epoch:\t 5 \tStep:\t 100 \tLoss:\t 0.05285157263278961\n",
      "Epoch:\t 5 \tStep:\t 200 \tLoss:\t 0.03944314643740654\n",
      "Epoch:\t 5 \tStep:\t 300 \tLoss:\t 0.05814920365810394\n",
      "Epoch:\t 5 \t\t\tValid Accuracy\t 0.9818457\n",
      "Epoch:\t 6 \tStep:\t 0 \tLoss:\t 0.02383878454566002\n",
      "Epoch:\t 6 \tStep:\t 100 \tLoss:\t 0.05677863582968712\n",
      "Epoch:\t 6 \tStep:\t 200 \tLoss:\t 0.03230085223913193\n",
      "Epoch:\t 6 \tStep:\t 300 \tLoss:\t 0.04029777646064758\n",
      "Epoch:\t 6 \t\t\tValid Accuracy\t 0.98472655\n",
      "Epoch:\t 7 \tStep:\t 0 \tLoss:\t 0.03395208343863487\n",
      "Epoch:\t 7 \tStep:\t 100 \tLoss:\t 0.046306062489748\n",
      "Epoch:\t 7 \tStep:\t 200 \tLoss:\t 0.03849631920456886\n",
      "Epoch:\t 7 \tStep:\t 300 \tLoss:\t 0.023990457877516747\n",
      "Epoch:\t 7 \t\t\tValid Accuracy\t 0.9866211\n",
      "Epoch:\t 8 \tStep:\t 0 \tLoss:\t 0.020068753510713577\n",
      "Epoch:\t 8 \tStep:\t 100 \tLoss:\t 0.04596013203263283\n",
      "Epoch:\t 8 \tStep:\t 200 \tLoss:\t 0.02047661691904068\n",
      "Epoch:\t 8 \tStep:\t 300 \tLoss:\t 0.023046333342790604\n",
      "Epoch:\t 8 \t\t\tValid Accuracy\t 0.98753905\n",
      "Epoch:\t 9 \tStep:\t 0 \tLoss:\t 0.019034162163734436\n",
      "Epoch:\t 9 \tStep:\t 100 \tLoss:\t 0.030823808163404465\n",
      "Epoch:\t 9 \tStep:\t 200 \tLoss:\t 0.017989711835980415\n",
      "Epoch:\t 9 \tStep:\t 300 \tLoss:\t 0.015952760353684425\n",
      "Epoch:\t 9 \t\t\tValid Accuracy\t 0.98952144\n",
      "Epoch:\t 10 \tStep:\t 0 \tLoss:\t 0.01638372614979744\n",
      "Epoch:\t 10 \tStep:\t 100 \tLoss:\t 0.02661672979593277\n",
      "Epoch:\t 10 \tStep:\t 200 \tLoss:\t 0.013014009222388268\n",
      "Epoch:\t 10 \tStep:\t 300 \tLoss:\t 0.018860142678022385\n",
      "Epoch:\t 10 \t\t\tValid Accuracy\t 0.99073243\n",
      "Epoch:\t 11 \tStep:\t 0 \tLoss:\t 0.015765206888318062\n",
      "Epoch:\t 11 \tStep:\t 100 \tLoss:\t 0.02205226942896843\n",
      "Epoch:\t 11 \tStep:\t 200 \tLoss:\t 0.01435033604502678\n",
      "Epoch:\t 11 \tStep:\t 300 \tLoss:\t 0.01393612939864397\n",
      "Epoch:\t 11 \t\t\tValid Accuracy\t 0.9909179\n",
      "Epoch:\t 12 \tStep:\t 0 \tLoss:\t 0.023212136700749397\n",
      "Epoch:\t 12 \tStep:\t 100 \tLoss:\t 0.017403732985258102\n",
      "Epoch:\t 12 \tStep:\t 200 \tLoss:\t 0.006436498370021582\n",
      "Epoch:\t 12 \tStep:\t 300 \tLoss:\t 0.010299162939190865\n",
      "Epoch:\t 12 \t\t\tValid Accuracy\t 0.9917675\n",
      "Epoch:\t 13 \tStep:\t 0 \tLoss:\t 0.007846321910619736\n",
      "Epoch:\t 13 \tStep:\t 100 \tLoss:\t 0.015860382467508316\n",
      "Epoch:\t 13 \tStep:\t 200 \tLoss:\t 0.023960137739777565\n",
      "Epoch:\t 13 \tStep:\t 300 \tLoss:\t 0.017737194895744324\n",
      "Epoch:\t 13 \t\t\tValid Accuracy\t 0.9925293\n",
      "Epoch:\t 14 \tStep:\t 0 \tLoss:\t 0.012092296965420246\n",
      "Epoch:\t 14 \tStep:\t 100 \tLoss:\t 0.014016970060765743\n",
      "Epoch:\t 14 \tStep:\t 200 \tLoss:\t 0.00888009648770094\n",
      "Epoch:\t 14 \tStep:\t 300 \tLoss:\t 0.012097140774130821\n",
      "Epoch:\t 14 \t\t\tValid Accuracy\t 0.9927539\n"
     ]
    }
   ],
   "source": [
    "SEQUENCE_LENGTH = 100\n",
    "\n",
    "train_ds = ToyDataset(num_examples=TRN_EXAMPLES, sequence_length=SEQUENCE_LENGTH, vocab_size=VOCAB_SIZE)\n",
    "valid_ds = ToyDataset(num_examples=VAL_EXAMPLES, sequence_length=SEQUENCE_LENGTH, vocab_size=VOCAB_SIZE)\n",
    "train_dl = DataLoader(train_ds, batch_size=BATCH_SIZE)\n",
    "valid_dl = DataLoader(valid_ds, batch_size=BATCH_SIZE)\n",
    "\n",
    "optimizer = RAdam(model.parameters(), lr=1e-5)\n",
    "train_loss, valid_loss, valid_acc = train(model, train_dl, valid_dl, loss_fn, optimizer, num_epochs=15)"
   ]
  },
  {
   "cell_type": "code",
   "execution_count": 15,
   "metadata": {},
   "outputs": [
    {
     "name": "stdout",
     "output_type": "stream",
     "text": [
      "X:\t tensor([402, 382, 182, 505, 657,  36, 765, 143, 802, 247, 232, 922, 215, 175,\n",
      "        964, 252, 127, 479, 731,  94, 713, 230, 376, 711, 632, 716, 197, 197,\n",
      "        197, 349, 606, 296, 646, 936, 782, 795, 360, 542, 465, 544, 237, 514,\n",
      "        875, 894, 696,  68, 525, 351, 833, 289, 385, 260, 754, 545, 479, 999,\n",
      "        484, 758, 472, 297, 344, 907, 230, 528, 380,   9, 657, 926, 167, 822,\n",
      "        455, 741, 480, 764, 450, 225,  34, 987, 930, 285, 571, 571, 315, 889,\n",
      "        278, 472, 897,  67, 668,  12, 902, 370,  86, 288,  48, 921, 126, 458,\n",
      "        133, 267], device='cuda:0')\n",
      "y:\t tensor([0, 0, 0, 0, 0, 0, 0, 0, 0, 0, 0, 0, 0, 0, 0, 0, 0, 0, 0, 0, 0, 0, 0, 0,\n",
      "        0, 0, 1, 1, 1, 0, 0, 0, 0, 0, 0, 0, 0, 0, 0, 0, 0, 0, 0, 0, 0, 0, 0, 0,\n",
      "        0, 0, 0, 0, 0, 0, 0, 0, 0, 0, 0, 0, 0, 0, 0, 0, 0, 0, 0, 0, 0, 0, 0, 0,\n",
      "        0, 0, 0, 0, 0, 0, 0, 0, 0, 0, 0, 0, 0, 0, 0, 0, 0, 0, 0, 0, 0, 0, 0, 0,\n",
      "        0, 0, 0, 0], device='cuda:0')\n",
      "y_hat:\t tensor([0, 0, 0, 0, 0, 0, 0, 0, 0, 0, 0, 0, 0, 0, 0, 0, 0, 0, 0, 0, 0, 0, 0, 0,\n",
      "        0, 0, 1, 1, 1, 0, 0, 0, 0, 0, 0, 0, 0, 0, 0, 0, 0, 0, 0, 0, 0, 0, 0, 0,\n",
      "        0, 0, 0, 0, 0, 0, 0, 0, 0, 0, 0, 0, 0, 0, 0, 0, 0, 0, 0, 0, 0, 0, 0, 0,\n",
      "        0, 0, 0, 0, 0, 0, 0, 0, 0, 0, 0, 0, 0, 0, 0, 0, 0, 0, 0, 0, 0, 0, 0, 0,\n",
      "        0, 0, 0, 0], device='cuda:0')\n"
     ]
    }
   ],
   "source": [
    "# Check if we're learned how to perform on items in the valid dataset\n",
    "x, y = valid_ds[19]\n",
    "y_hat = get_output_for_example(model, x)\n",
    "\n",
    "print(\"X:\\t\", x)\n",
    "print(\"y:\\t\", y)\n",
    "print(\"y_hat:\\t\", y_hat.squeeze())"
   ]
  }
 ],
 "metadata": {
  "kernelspec": {
   "display_name": "Python (DL)",
   "language": "python",
   "name": "dl"
  },
  "language_info": {
   "codemirror_mode": {
    "name": "ipython",
    "version": 3
   },
   "file_extension": ".py",
   "mimetype": "text/x-python",
   "name": "python",
   "nbconvert_exporter": "python",
   "pygments_lexer": "ipython3",
   "version": "3.6.9"
  }
 },
 "nbformat": 4,
 "nbformat_minor": 2
}
