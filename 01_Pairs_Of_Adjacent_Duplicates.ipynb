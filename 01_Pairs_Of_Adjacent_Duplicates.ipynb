{
 "cells": [
  {
   "cell_type": "markdown",
   "metadata": {},
   "source": [
    "## Pairs Of Adjacent Duplicates"
   ]
  },
  {
   "cell_type": "markdown",
   "metadata": {},
   "source": [
    "Now that we have the first problem mostly working, let's try another.\n",
    "\n",
    "\n",
    "Given a sequence of numbers, find and mark adjacent duplicates. For simplicity, we'll only have one duplicate in each input.\n",
    "\n",
    "```\n",
    "input  = 0 3 5 9 3 3 5 2 5\n",
    "output = 0 0 0 0 1 1 0 0 0\n",
    "```\n"
   ]
  },
  {
   "cell_type": "code",
   "execution_count": 11,
   "metadata": {},
   "outputs": [],
   "source": [
    "import torch\n",
    "import numpy as np\n",
    "import matplotlib.pyplot as plt\n",
    "\n",
    "from radam import RAdam\n",
    "from transformers import BertConfig, BertModel\n",
    "from torch.utils.data import DataLoader, Dataset\n",
    "from utils import train, get_accuracy, get_output_for_example, plot_losses"
   ]
  },
  {
   "cell_type": "code",
   "execution_count": 2,
   "metadata": {},
   "outputs": [],
   "source": [
    "def generate_data(num_examples: int, seq_len: int, vocab_size: int):\n",
    "    inputs = np.random.randint(0, vocab_size, size=(num_examples, seq_len))\n",
    "    outputs = np.zeros_like(inputs)\n",
    "    \n",
    "    for i in range(len(inputs)):\n",
    "        \n",
    "        # choose number of duplicates to introduce\n",
    "        num_duplicates = 2\n",
    "        \n",
    "        # choose random location to introduce our duplicates\n",
    "        location = np.random.randint(0, len(inputs[i]) - num_duplicates)\n",
    "        \n",
    "        # Choose what number we'd like to repeat\n",
    "        number_to_repeat = np.random.randint(0, vocab_size)\n",
    "        \n",
    "        inputs[i][location:location + num_duplicates] = number_to_repeat\n",
    "        \n",
    "        # Mark location where duplicates exist\n",
    "        outputs[i][location:location + num_duplicates] = 1\n",
    "        \n",
    "\n",
    "    return inputs, outputs"
   ]
  },
  {
   "cell_type": "code",
   "execution_count": 3,
   "metadata": {},
   "outputs": [
    {
     "data": {
      "text/plain": [
       "(array([[286, 297, 872, 172, 968, 968, 879, 771, 780, 809]]),\n",
       " array([[0, 0, 0, 0, 1, 1, 0, 0, 0, 0]]))"
      ]
     },
     "execution_count": 3,
     "metadata": {},
     "output_type": "execute_result"
    }
   ],
   "source": [
    "# We're lazy so we're going to just use a large vocabulary \n",
    "# instead of manually removing accidental duplicates\n",
    "generate_data(num_examples=1, seq_len=10, vocab_size=1000)"
   ]
  },
  {
   "cell_type": "code",
   "execution_count": 4,
   "metadata": {},
   "outputs": [],
   "source": [
    "class ToyDataset(Dataset):\n",
    "   \n",
    "    def __init__(self, num_examples, sequence_length, vocab_size):\n",
    "        self.items, self.labels = generate_data(num_examples, sequence_length, vocab_size)\n",
    "        \n",
    "    def __getitem__(self, idx):\n",
    "        \n",
    "        x = torch.Tensor(self.items[idx]).long()\n",
    "        y = torch.Tensor(self.labels[idx]).long()\n",
    "        return x.cuda(), y.cuda()\n",
    "    \n",
    "    def __len__(self):\n",
    "        return len(self.items)"
   ]
  },
  {
   "cell_type": "code",
   "execution_count": 5,
   "metadata": {},
   "outputs": [],
   "source": [
    "class ToyModel(torch.nn.Module):\n",
    "    \"\"\"\n",
    "    Wrapper around a BERT model that predicts a single binary output for each input token\n",
    "    \"\"\"\n",
    "    \n",
    "    def __init__(self, vocab_size):\n",
    "        super().__init__()\n",
    "        \n",
    "        # Untrained BERT Model\n",
    "        config = BertConfig(vocab_size_or_config_json_file=vocab_size)\n",
    "        self.bert_model = BertModel(config)\n",
    "        self.linear = torch.nn.Linear(in_features=768, out_features=2)\n",
    "        \n",
    "    def forward(self, x):    \n",
    "        out, _ = self.bert_model(x)\n",
    "        out = self.linear(out)\n",
    "        return out    "
   ]
  },
  {
   "cell_type": "code",
   "execution_count": 22,
   "metadata": {},
   "outputs": [],
   "source": [
    "TRN_EXAMPLES = 128\n",
    "VAL_EXAMPLES = 120\n",
    "SEQ_LENGTH = 10\n",
    "VOCAB_SIZE = 1000\n",
    "BATCH_SIZE = 32\n",
    "LR = 1e-4\n",
    "\n",
    "train_ds = ToyDataset(num_examples=TRN_EXAMPLES, sequence_length=SEQ_LENGTH, vocab_size=VOCAB_SIZE)\n",
    "valid_ds = ToyDataset(num_examples=VAL_EXAMPLES, sequence_length=SEQ_LENGTH, vocab_size=VOCAB_SIZE)\n",
    "train_dl = DataLoader(train_ds, batch_size=BATCH_SIZE)\n",
    "valid_dl = DataLoader(valid_ds, batch_size=BATCH_SIZE)"
   ]
  },
  {
   "cell_type": "code",
   "execution_count": 23,
   "metadata": {},
   "outputs": [],
   "source": [
    "model = ToyModel(VOCAB_SIZE)\n",
    "model = model.cuda()"
   ]
  },
  {
   "cell_type": "code",
   "execution_count": 24,
   "metadata": {},
   "outputs": [],
   "source": [
    "# NOTE: We use RAdam to avoid having to use warmup\n",
    "# If we use regular Adam, this usually won't converge for long sequences\n",
    "optimizer = RAdam(model.parameters(), lr=LR)\n",
    "loss_fn = torch.nn.CrossEntropyLoss()"
   ]
  },
  {
   "cell_type": "code",
   "execution_count": 25,
   "metadata": {
    "scrolled": true
   },
   "outputs": [
    {
     "name": "stdout",
     "output_type": "stream",
     "text": [
      "Epoch:\t 0 \tStep:\t 0 \tLoss:\t 0.549916684627533\n",
      "Epoch:\t 0 \t\t\tValid Accuracy\t 0.79348963\n",
      "Epoch:\t 1 \tStep:\t 0 \tLoss:\t 0.5504586100578308\n",
      "Epoch:\t 1 \t\t\tValid Accuracy\t 0.8000001\n",
      "Epoch:\t 2 \tStep:\t 0 \tLoss:\t 0.5850911140441895\n",
      "Epoch:\t 2 \t\t\tValid Accuracy\t 0.7893229\n",
      "Epoch:\t 3 \tStep:\t 0 \tLoss:\t 0.49532175064086914\n",
      "Epoch:\t 3 \t\t\tValid Accuracy\t 0.79453135\n",
      "Epoch:\t 4 \tStep:\t 0 \tLoss:\t 0.46877628564834595\n",
      "Epoch:\t 4 \t\t\tValid Accuracy\t 0.7984375\n",
      "Epoch:\t 5 \tStep:\t 0 \tLoss:\t 0.4457995295524597\n",
      "Epoch:\t 5 \t\t\tValid Accuracy\t 0.76744795\n",
      "Epoch:\t 6 \tStep:\t 0 \tLoss:\t 0.4453398585319519\n",
      "Epoch:\t 6 \t\t\tValid Accuracy\t 0.7963542\n",
      "Epoch:\t 7 \tStep:\t 0 \tLoss:\t 0.4241681694984436\n",
      "Epoch:\t 7 \t\t\tValid Accuracy\t 0.7757813\n",
      "Epoch:\t 8 \tStep:\t 0 \tLoss:\t 0.4092821180820465\n",
      "Epoch:\t 8 \t\t\tValid Accuracy\t 0.7945312\n",
      "Epoch:\t 9 \tStep:\t 0 \tLoss:\t 0.39121687412261963\n",
      "Epoch:\t 9 \t\t\tValid Accuracy\t 0.7710938\n",
      "Epoch:\t 10 \tStep:\t 0 \tLoss:\t 0.3617556095123291\n",
      "Epoch:\t 10 \t\t\tValid Accuracy\t 0.7861979\n",
      "Epoch:\t 11 \tStep:\t 0 \tLoss:\t 0.3348979949951172\n",
      "Epoch:\t 11 \t\t\tValid Accuracy\t 0.7601563\n",
      "Epoch:\t 12 \tStep:\t 0 \tLoss:\t 0.28562724590301514\n",
      "Epoch:\t 12 \t\t\tValid Accuracy\t 0.7526042\n",
      "Epoch:\t 13 \tStep:\t 0 \tLoss:\t 0.27779704332351685\n",
      "Epoch:\t 13 \t\t\tValid Accuracy\t 0.7622396\n",
      "Epoch:\t 14 \tStep:\t 0 \tLoss:\t 0.2340778112411499\n",
      "Epoch:\t 14 \t\t\tValid Accuracy\t 0.7401042\n",
      "Epoch:\t 15 \tStep:\t 0 \tLoss:\t 0.20675548911094666\n",
      "Epoch:\t 15 \t\t\tValid Accuracy\t 0.72526044\n",
      "Epoch:\t 16 \tStep:\t 0 \tLoss:\t 0.15954186022281647\n",
      "Epoch:\t 16 \t\t\tValid Accuracy\t 0.7132813\n",
      "Epoch:\t 17 \tStep:\t 0 \tLoss:\t 0.13569150865077972\n",
      "Epoch:\t 17 \t\t\tValid Accuracy\t 0.7341146\n",
      "Epoch:\t 18 \tStep:\t 0 \tLoss:\t 0.10551704466342926\n",
      "Epoch:\t 18 \t\t\tValid Accuracy\t 0.75703126\n",
      "Epoch:\t 19 \tStep:\t 0 \tLoss:\t 0.0885644182562828\n",
      "Epoch:\t 19 \t\t\tValid Accuracy\t 0.7328125\n",
      "Epoch:\t 20 \tStep:\t 0 \tLoss:\t 0.05721881985664368\n",
      "Epoch:\t 20 \t\t\tValid Accuracy\t 0.74609375\n",
      "Epoch:\t 21 \tStep:\t 0 \tLoss:\t 0.05751236528158188\n",
      "Epoch:\t 21 \t\t\tValid Accuracy\t 0.7302084\n",
      "Epoch:\t 22 \tStep:\t 0 \tLoss:\t 0.04424375668168068\n",
      "Epoch:\t 22 \t\t\tValid Accuracy\t 0.74609375\n",
      "Epoch:\t 23 \tStep:\t 0 \tLoss:\t 0.04364718496799469\n",
      "Epoch:\t 23 \t\t\tValid Accuracy\t 0.73906255\n",
      "Epoch:\t 24 \tStep:\t 0 \tLoss:\t 0.04555123671889305\n",
      "Epoch:\t 24 \t\t\tValid Accuracy\t 0.74661463\n",
      "Epoch:\t 25 \tStep:\t 0 \tLoss:\t 0.02534933015704155\n",
      "Epoch:\t 25 \t\t\tValid Accuracy\t 0.74947923\n",
      "Epoch:\t 26 \tStep:\t 0 \tLoss:\t 0.03155488520860672\n",
      "Epoch:\t 26 \t\t\tValid Accuracy\t 0.73333335\n",
      "Epoch:\t 27 \tStep:\t 0 \tLoss:\t 0.018499713391065598\n",
      "Epoch:\t 27 \t\t\tValid Accuracy\t 0.7455729\n",
      "Epoch:\t 28 \tStep:\t 0 \tLoss:\t 0.03423496335744858\n",
      "Epoch:\t 28 \t\t\tValid Accuracy\t 0.7416667\n",
      "Epoch:\t 29 \tStep:\t 0 \tLoss:\t 0.011795727536082268\n",
      "Epoch:\t 29 \t\t\tValid Accuracy\t 0.7497396\n",
      "Epoch:\t 30 \tStep:\t 0 \tLoss:\t 0.024978643283247948\n",
      "Epoch:\t 30 \t\t\tValid Accuracy\t 0.74895835\n",
      "Epoch:\t 31 \tStep:\t 0 \tLoss:\t 0.024497222155332565\n",
      "Epoch:\t 31 \t\t\tValid Accuracy\t 0.734375\n",
      "Epoch:\t 32 \tStep:\t 0 \tLoss:\t 0.025470327585935593\n",
      "Epoch:\t 32 \t\t\tValid Accuracy\t 0.7377604\n",
      "Epoch:\t 33 \tStep:\t 0 \tLoss:\t 0.01284765638411045\n",
      "Epoch:\t 33 \t\t\tValid Accuracy\t 0.73802084\n",
      "Epoch:\t 34 \tStep:\t 0 \tLoss:\t 0.003491396550089121\n",
      "Epoch:\t 34 \t\t\tValid Accuracy\t 0.7320313\n",
      "Epoch:\t 35 \tStep:\t 0 \tLoss:\t 0.00599034084007144\n",
      "Epoch:\t 35 \t\t\tValid Accuracy\t 0.7473959\n",
      "Epoch:\t 36 \tStep:\t 0 \tLoss:\t 0.007704878691583872\n",
      "Epoch:\t 36 \t\t\tValid Accuracy\t 0.7419271\n",
      "Epoch:\t 37 \tStep:\t 0 \tLoss:\t 0.008442127145826817\n",
      "Epoch:\t 37 \t\t\tValid Accuracy\t 0.74583334\n",
      "Epoch:\t 38 \tStep:\t 0 \tLoss:\t 0.007864253595471382\n",
      "Epoch:\t 38 \t\t\tValid Accuracy\t 0.7481771\n",
      "Epoch:\t 39 \tStep:\t 0 \tLoss:\t 0.006281844340264797\n",
      "Epoch:\t 39 \t\t\tValid Accuracy\t 0.7166667\n",
      "Epoch:\t 40 \tStep:\t 0 \tLoss:\t 0.005251122638583183\n",
      "Epoch:\t 40 \t\t\tValid Accuracy\t 0.74713546\n",
      "Epoch:\t 41 \tStep:\t 0 \tLoss:\t 0.006551565136760473\n",
      "Epoch:\t 41 \t\t\tValid Accuracy\t 0.7445312\n",
      "Epoch:\t 42 \tStep:\t 0 \tLoss:\t 0.0045783016830682755\n",
      "Epoch:\t 42 \t\t\tValid Accuracy\t 0.7109375\n",
      "Epoch:\t 43 \tStep:\t 0 \tLoss:\t 0.017162365838885307\n",
      "Epoch:\t 43 \t\t\tValid Accuracy\t 0.7494792\n",
      "Epoch:\t 44 \tStep:\t 0 \tLoss:\t 0.00337233766913414\n",
      "Epoch:\t 44 \t\t\tValid Accuracy\t 0.74895835\n",
      "Epoch:\t 45 \tStep:\t 0 \tLoss:\t 0.0025804585311561823\n",
      "Epoch:\t 45 \t\t\tValid Accuracy\t 0.73932296\n",
      "Epoch:\t 46 \tStep:\t 0 \tLoss:\t 0.012474337592720985\n",
      "Epoch:\t 46 \t\t\tValid Accuracy\t 0.7348958\n",
      "Epoch:\t 47 \tStep:\t 0 \tLoss:\t 0.007703407201915979\n",
      "Epoch:\t 47 \t\t\tValid Accuracy\t 0.73932296\n",
      "Epoch:\t 48 \tStep:\t 0 \tLoss:\t 0.006756164133548737\n",
      "Epoch:\t 48 \t\t\tValid Accuracy\t 0.7322917\n",
      "Epoch:\t 49 \tStep:\t 0 \tLoss:\t 0.008888394571840763\n",
      "Epoch:\t 49 \t\t\tValid Accuracy\t 0.73567706\n"
     ]
    }
   ],
   "source": [
    "trn_loss, val_loss, val_acc = train(model, train_dl, valid_dl, loss_fn, optimizer, num_epochs=50, print_every=100)"
   ]
  },
  {
   "cell_type": "code",
   "execution_count": 26,
   "metadata": {},
   "outputs": [
    {
     "data": {
      "image/png": "[encoded data removed]",
      "text/plain": [
       "<Figure size 432x288 with 1 Axes>"
      ]
     },
     "metadata": {
      "needs_background": "light"
     },
     "output_type": "display_data"
    }
   ],
   "source": [
    "plot_losses(trn_loss, val_loss, val_acc)"
   ]
  },
  {
   "cell_type": "markdown",
   "metadata": {},
   "source": [
    "Although we're getting low training loss, we've clearly overfit our dataset as validation loss has exploded. Additionally we're getting about 80% validation accuracy at best which is as much as we could expect when predicting all `0`. (80% of each example is `0`).\n",
    "\n",
    "Let's try adding ten times as much training data."
   ]
  },
  {
   "cell_type": "code",
   "execution_count": 34,
   "metadata": {},
   "outputs": [],
   "source": [
    "# Ten times as much data as before\n",
    "TRN_EXAMPLES = 1280\n",
    "VAL_EXAMPLES = 1200\n",
    "# Other parameters are kept the same\n",
    "SEQ_LENGTH = 10\n",
    "VOCAB_SIZE = 1000\n",
    "BATCH_SIZE = 32\n",
    "LR = 1e-4\n",
    "\n",
    "train_ds = ToyDataset(num_examples=TRN_EXAMPLES, sequence_length=SEQ_LENGTH, vocab_size=VOCAB_SIZE)\n",
    "valid_ds = ToyDataset(num_examples=VAL_EXAMPLES, sequence_length=SEQ_LENGTH, vocab_size=VOCAB_SIZE)\n",
    "train_dl = DataLoader(train_ds, batch_size=BATCH_SIZE)\n",
    "valid_dl = DataLoader(valid_ds, batch_size=BATCH_SIZE)"
   ]
  },
  {
   "cell_type": "code",
   "execution_count": 35,
   "metadata": {},
   "outputs": [],
   "source": [
    "model = ToyModel(VOCAB_SIZE)\n",
    "model = model.cuda()"
   ]
  },
  {
   "cell_type": "code",
   "execution_count": 36,
   "metadata": {},
   "outputs": [],
   "source": [
    "# NOTE: We use RAdam to avoid having to use warmup\n",
    "# If we use regular Adam, this usually won't converge for long sequences\n",
    "optimizer = RAdam(model.parameters(), lr=LR)\n",
    "loss_fn = torch.nn.CrossEntropyLoss()"
   ]
  },
  {
   "cell_type": "code",
   "execution_count": 37,
   "metadata": {},
   "outputs": [
    {
     "name": "stdout",
     "output_type": "stream",
     "text": [
      "Epoch:\t 0 \tStep:\t 0 \tLoss:\t 0.6584423184394836\n",
      "Epoch:\t 0 \t\t\tValid Accuracy\t 0.7999999\n",
      "Epoch:\t 1 \tStep:\t 0 \tLoss:\t 0.47321218252182007\n",
      "Epoch:\t 1 \t\t\tValid Accuracy\t 0.799671\n",
      "Epoch:\t 2 \tStep:\t 0 \tLoss:\t 0.46234917640686035\n",
      "Epoch:\t 2 \t\t\tValid Accuracy\t 0.79654604\n",
      "Epoch:\t 3 \tStep:\t 0 \tLoss:\t 0.4707900583744049\n",
      "Epoch:\t 3 \t\t\tValid Accuracy\t 0.7849507\n",
      "Epoch:\t 4 \tStep:\t 0 \tLoss:\t 0.46136125922203064\n",
      "Epoch:\t 4 \t\t\tValid Accuracy\t 0.7602796\n",
      "Epoch:\t 5 \tStep:\t 0 \tLoss:\t 0.4570659101009369\n",
      "Epoch:\t 5 \t\t\tValid Accuracy\t 0.7592928\n",
      "Epoch:\t 6 \tStep:\t 0 \tLoss:\t 0.4252626895904541\n",
      "Epoch:\t 6 \t\t\tValid Accuracy\t 0.7473685\n",
      "Epoch:\t 7 \tStep:\t 0 \tLoss:\t 0.3852044939994812\n",
      "Epoch:\t 7 \t\t\tValid Accuracy\t 0.71422696\n",
      "Epoch:\t 8 \tStep:\t 0 \tLoss:\t 0.3179878294467926\n",
      "Epoch:\t 8 \t\t\tValid Accuracy\t 0.7283717\n",
      "Epoch:\t 9 \tStep:\t 0 \tLoss:\t 0.3127977252006531\n",
      "Epoch:\t 9 \t\t\tValid Accuracy\t 0.7277138\n",
      "Epoch:\t 10 \tStep:\t 0 \tLoss:\t 0.27355897426605225\n",
      "Epoch:\t 10 \t\t\tValid Accuracy\t 0.7144737\n",
      "Epoch:\t 11 \tStep:\t 0 \tLoss:\t 0.3094567060470581\n",
      "Epoch:\t 11 \t\t\tValid Accuracy\t 0.69958884\n",
      "Epoch:\t 12 \tStep:\t 0 \tLoss:\t 0.3079269528388977\n",
      "Epoch:\t 12 \t\t\tValid Accuracy\t 0.7074836\n",
      "Epoch:\t 13 \tStep:\t 0 \tLoss:\t 0.07088611274957657\n",
      "Epoch:\t 13 \t\t\tValid Accuracy\t 0.70312506\n",
      "Epoch:\t 14 \tStep:\t 0 \tLoss:\t 0.19449356198310852\n",
      "Epoch:\t 14 \t\t\tValid Accuracy\t 0.6936679\n",
      "Epoch:\t 15 \tStep:\t 0 \tLoss:\t 0.05683515593409538\n",
      "Epoch:\t 15 \t\t\tValid Accuracy\t 0.71825653\n",
      "Epoch:\t 16 \tStep:\t 0 \tLoss:\t 0.03331498056650162\n",
      "Epoch:\t 16 \t\t\tValid Accuracy\t 0.7140625\n",
      "Epoch:\t 17 \tStep:\t 0 \tLoss:\t 0.04822627827525139\n",
      "Epoch:\t 17 \t\t\tValid Accuracy\t 0.7040296\n",
      "Epoch:\t 18 \tStep:\t 0 \tLoss:\t 0.06758962571620941\n",
      "Epoch:\t 18 \t\t\tValid Accuracy\t 0.70518094\n",
      "Epoch:\t 19 \tStep:\t 0 \tLoss:\t 0.0016121391672641039\n",
      "Epoch:\t 19 \t\t\tValid Accuracy\t 0.71546054\n",
      "Epoch:\t 20 \tStep:\t 0 \tLoss:\t 0.0018842887366190553\n",
      "Epoch:\t 20 \t\t\tValid Accuracy\t 0.6995066\n",
      "Epoch:\t 21 \tStep:\t 0 \tLoss:\t 0.002552510006353259\n",
      "Epoch:\t 21 \t\t\tValid Accuracy\t 0.709704\n",
      "Epoch:\t 22 \tStep:\t 0 \tLoss:\t 0.0007689855992794037\n",
      "Epoch:\t 22 \t\t\tValid Accuracy\t 0.6959704\n",
      "Epoch:\t 23 \tStep:\t 0 \tLoss:\t 0.004803050309419632\n",
      "Epoch:\t 23 \t\t\tValid Accuracy\t 0.7089638\n",
      "Epoch:\t 24 \tStep:\t 0 \tLoss:\t 0.028785893693566322\n",
      "Epoch:\t 24 \t\t\tValid Accuracy\t 0.7078125\n",
      "Epoch:\t 25 \tStep:\t 0 \tLoss:\t 0.018506282940506935\n",
      "Epoch:\t 25 \t\t\tValid Accuracy\t 0.69621706\n",
      "Epoch:\t 26 \tStep:\t 0 \tLoss:\t 0.016691094264388084\n",
      "Epoch:\t 26 \t\t\tValid Accuracy\t 0.7\n",
      "Epoch:\t 27 \tStep:\t 0 \tLoss:\t 0.004191185813397169\n",
      "Epoch:\t 27 \t\t\tValid Accuracy\t 0.69958884\n",
      "Epoch:\t 28 \tStep:\t 0 \tLoss:\t 0.0023452609311789274\n",
      "Epoch:\t 28 \t\t\tValid Accuracy\t 0.70616776\n",
      "Epoch:\t 29 \tStep:\t 0 \tLoss:\t 0.0016533511225134134\n",
      "Epoch:\t 29 \t\t\tValid Accuracy\t 0.6962171\n",
      "Epoch:\t 30 \tStep:\t 0 \tLoss:\t 0.00017099939577747136\n",
      "Epoch:\t 30 \t\t\tValid Accuracy\t 0.7089638\n",
      "Epoch:\t 31 \tStep:\t 0 \tLoss:\t 0.02461734227836132\n",
      "Epoch:\t 31 \t\t\tValid Accuracy\t 0.65213823\n",
      "Epoch:\t 32 \tStep:\t 0 \tLoss:\t 0.0006826480966992676\n",
      "Epoch:\t 32 \t\t\tValid Accuracy\t 0.7038652\n",
      "Epoch:\t 33 \tStep:\t 0 \tLoss:\t 0.0006904072943143547\n",
      "Epoch:\t 33 \t\t\tValid Accuracy\t 0.68634874\n",
      "Epoch:\t 34 \tStep:\t 0 \tLoss:\t 0.0001438349427189678\n",
      "Epoch:\t 34 \t\t\tValid Accuracy\t 0.7080592\n",
      "Epoch:\t 35 \tStep:\t 0 \tLoss:\t 0.004132300615310669\n",
      "Epoch:\t 35 \t\t\tValid Accuracy\t 0.7212171\n",
      "Epoch:\t 36 \tStep:\t 0 \tLoss:\t 0.010380055755376816\n",
      "Epoch:\t 36 \t\t\tValid Accuracy\t 0.72113496\n",
      "Epoch:\t 37 \tStep:\t 0 \tLoss:\t 0.02231663651764393\n",
      "Epoch:\t 37 \t\t\tValid Accuracy\t 0.70871717\n",
      "Epoch:\t 38 \tStep:\t 0 \tLoss:\t 0.0004740908625535667\n",
      "Epoch:\t 38 \t\t\tValid Accuracy\t 0.7260691\n",
      "Epoch:\t 39 \tStep:\t 0 \tLoss:\t 0.003514312906190753\n",
      "Epoch:\t 39 \t\t\tValid Accuracy\t 0.69185853\n",
      "Epoch:\t 40 \tStep:\t 0 \tLoss:\t 0.0004791170358657837\n",
      "Epoch:\t 40 \t\t\tValid Accuracy\t 0.6993421\n",
      "Epoch:\t 41 \tStep:\t 0 \tLoss:\t 0.000207686418434605\n",
      "Epoch:\t 41 \t\t\tValid Accuracy\t 0.7138158\n",
      "Epoch:\t 42 \tStep:\t 0 \tLoss:\t 0.0036154245026409626\n",
      "Epoch:\t 42 \t\t\tValid Accuracy\t 0.71513164\n",
      "Epoch:\t 43 \tStep:\t 0 \tLoss:\t 5.094632433610968e-05\n",
      "Epoch:\t 43 \t\t\tValid Accuracy\t 0.7067434\n",
      "Epoch:\t 44 \tStep:\t 0 \tLoss:\t 0.007296179886907339\n",
      "Epoch:\t 44 \t\t\tValid Accuracy\t 0.7155428\n",
      "Epoch:\t 45 \tStep:\t 0 \tLoss:\t 0.0028048758395016193\n",
      "Epoch:\t 45 \t\t\tValid Accuracy\t 0.7170231\n",
      "Epoch:\t 46 \tStep:\t 0 \tLoss:\t 0.005915137007832527\n",
      "Epoch:\t 46 \t\t\tValid Accuracy\t 0.67648035\n",
      "Epoch:\t 47 \tStep:\t 0 \tLoss:\t 0.06360194087028503\n",
      "Epoch:\t 47 \t\t\tValid Accuracy\t 0.72565794\n",
      "Epoch:\t 48 \tStep:\t 0 \tLoss:\t 0.003988820128142834\n",
      "Epoch:\t 48 \t\t\tValid Accuracy\t 0.7130757\n",
      "Epoch:\t 49 \tStep:\t 0 \tLoss:\t 0.009330295026302338\n",
      "Epoch:\t 49 \t\t\tValid Accuracy\t 0.70657897\n"
     ]
    }
   ],
   "source": [
    "trn_loss, val_loss, val_acc = train(model, train_dl, valid_dl, loss_fn, optimizer, num_epochs=50, print_every=100)"
   ]
  },
  {
   "cell_type": "code",
   "execution_count": 38,
   "metadata": {},
   "outputs": [
    {
     "data": {
      "image/png": "[encoded data removed]",
      "text/plain": [
       "<Figure size 432x288 with 1 Axes>"
      ]
     },
     "metadata": {
      "needs_background": "light"
     },
     "output_type": "display_data"
    }
   ],
   "source": [
    "plot_losses(trn_loss, val_loss, val_acc)"
   ]
  },
  {
   "cell_type": "markdown",
   "metadata": {},
   "source": [
    "We're still getting low training loss, but high validation loss and poor validation accuracy.\n",
    "\n",
    "Let's try adding more data!"
   ]
  },
  {
   "cell_type": "code",
   "execution_count": 39,
   "metadata": {},
   "outputs": [],
   "source": [
    "# 100x as much data as before\n",
    "TRN_EXAMPLES = 12800\n",
    "VAL_EXAMPLES = 1200\n",
    "# Other parameters are kept the same\n",
    "SEQ_LENGTH = 10\n",
    "VOCAB_SIZE = 1000\n",
    "BATCH_SIZE = 32\n",
    "LR = 1e-4\n",
    "\n",
    "train_ds = ToyDataset(num_examples=TRN_EXAMPLES, sequence_length=SEQ_LENGTH, vocab_size=VOCAB_SIZE)\n",
    "valid_ds = ToyDataset(num_examples=VAL_EXAMPLES, sequence_length=SEQ_LENGTH, vocab_size=VOCAB_SIZE)\n",
    "train_dl = DataLoader(train_ds, batch_size=BATCH_SIZE)\n",
    "valid_dl = DataLoader(valid_ds, batch_size=BATCH_SIZE)"
   ]
  },
  {
   "cell_type": "code",
   "execution_count": 40,
   "metadata": {},
   "outputs": [],
   "source": [
    "model = ToyModel(VOCAB_SIZE)\n",
    "model = model.cuda()"
   ]
  },
  {
   "cell_type": "code",
   "execution_count": 41,
   "metadata": {},
   "outputs": [],
   "source": [
    "# NOTE: We use RAdam to avoid having to use warmup\n",
    "# If we use regular Adam, this usually won't converge for long sequences\n",
    "optimizer = RAdam(model.parameters(), lr=LR)\n",
    "loss_fn = torch.nn.CrossEntropyLoss()"
   ]
  },
  {
   "cell_type": "code",
   "execution_count": 42,
   "metadata": {},
   "outputs": [
    {
     "name": "stdout",
     "output_type": "stream",
     "text": [
      "Epoch:\t 0 \tStep:\t 0 \tLoss:\t 0.844509482383728\n",
      "Epoch:\t 0 \tStep:\t 100 \tLoss:\t 0.4921850264072418\n",
      "Epoch:\t 0 \tStep:\t 200 \tLoss:\t 0.4671918749809265\n",
      "Epoch:\t 0 \tStep:\t 300 \tLoss:\t 0.4769051969051361\n",
      "Epoch:\t 0 \t\t\tValid Accuracy\t 0.7999999\n",
      "Epoch:\t 1 \tStep:\t 0 \tLoss:\t 0.47771650552749634\n",
      "Epoch:\t 1 \tStep:\t 100 \tLoss:\t 0.481773316860199\n",
      "Epoch:\t 1 \tStep:\t 200 \tLoss:\t 0.45999717712402344\n",
      "Epoch:\t 1 \tStep:\t 300 \tLoss:\t 0.46936410665512085\n",
      "Epoch:\t 1 \t\t\tValid Accuracy\t 0.7999999\n",
      "Epoch:\t 2 \tStep:\t 0 \tLoss:\t 0.48127609491348267\n",
      "Epoch:\t 2 \tStep:\t 100 \tLoss:\t 0.4805912375450134\n",
      "Epoch:\t 2 \tStep:\t 200 \tLoss:\t 0.45702213048934937\n",
      "Epoch:\t 2 \tStep:\t 300 \tLoss:\t 0.4726109504699707\n",
      "Epoch:\t 2 \t\t\tValid Accuracy\t 0.7999999\n",
      "Epoch:\t 3 \tStep:\t 0 \tLoss:\t 0.4735395908355713\n",
      "Epoch:\t 3 \tStep:\t 100 \tLoss:\t 0.4819353520870209\n",
      "Epoch:\t 3 \tStep:\t 200 \tLoss:\t 0.442431777715683\n",
      "Epoch:\t 3 \tStep:\t 300 \tLoss:\t 0.47053855657577515\n",
      "Epoch:\t 3 \t\t\tValid Accuracy\t 0.7999999\n",
      "Epoch:\t 4 \tStep:\t 0 \tLoss:\t 0.4508120119571686\n",
      "Epoch:\t 4 \tStep:\t 100 \tLoss:\t 0.23643401265144348\n",
      "Epoch:\t 4 \tStep:\t 200 \tLoss:\t 0.13270068168640137\n",
      "Epoch:\t 4 \tStep:\t 300 \tLoss:\t 0.16700567305088043\n",
      "Epoch:\t 4 \t\t\tValid Accuracy\t 0.9610197\n",
      "Epoch:\t 5 \tStep:\t 0 \tLoss:\t 0.13277581334114075\n",
      "Epoch:\t 5 \tStep:\t 100 \tLoss:\t 0.123570516705513\n",
      "Epoch:\t 5 \tStep:\t 200 \tLoss:\t 0.0518583245575428\n",
      "Epoch:\t 5 \tStep:\t 300 \tLoss:\t 0.06496930867433548\n",
      "Epoch:\t 5 \t\t\tValid Accuracy\t 0.9705593\n",
      "Epoch:\t 6 \tStep:\t 0 \tLoss:\t 0.03152110055088997\n",
      "Epoch:\t 6 \tStep:\t 100 \tLoss:\t 0.07032491266727448\n",
      "Epoch:\t 6 \tStep:\t 200 \tLoss:\t 0.04852878302335739\n",
      "Epoch:\t 6 \tStep:\t 300 \tLoss:\t 0.07157288491725922\n",
      "Epoch:\t 6 \t\t\tValid Accuracy\t 0.9640625\n",
      "Epoch:\t 7 \tStep:\t 0 \tLoss:\t 0.042034950107336044\n",
      "Epoch:\t 7 \tStep:\t 100 \tLoss:\t 0.0383387915790081\n",
      "Epoch:\t 7 \tStep:\t 200 \tLoss:\t 0.03337687999010086\n",
      "Epoch:\t 7 \tStep:\t 300 \tLoss:\t 0.06476191431283951\n",
      "Epoch:\t 7 \t\t\tValid Accuracy\t 0.974671\n",
      "Epoch:\t 8 \tStep:\t 0 \tLoss:\t 0.028005003929138184\n",
      "Epoch:\t 8 \tStep:\t 100 \tLoss:\t 0.011802737601101398\n",
      "Epoch:\t 8 \tStep:\t 200 \tLoss:\t 0.03377469256520271\n",
      "Epoch:\t 8 \tStep:\t 300 \tLoss:\t 0.012279827147722244\n",
      "Epoch:\t 8 \t\t\tValid Accuracy\t 0.9692435\n",
      "Epoch:\t 9 \tStep:\t 0 \tLoss:\t 0.08494352549314499\n",
      "Epoch:\t 9 \tStep:\t 100 \tLoss:\t 0.0128243463113904\n",
      "Epoch:\t 9 \tStep:\t 200 \tLoss:\t 0.01555594988167286\n",
      "Epoch:\t 9 \tStep:\t 300 \tLoss:\t 0.009458519518375397\n",
      "Epoch:\t 9 \t\t\tValid Accuracy\t 0.9736842\n"
     ]
    }
   ],
   "source": [
    "trn_loss, val_loss, val_acc = train(model, train_dl, valid_dl, loss_fn, optimizer, num_epochs=10, print_every=100)"
   ]
  },
  {
   "cell_type": "code",
   "execution_count": 43,
   "metadata": {},
   "outputs": [
    {
     "data": {
      "image/png": "[encoded data removed]",
      "text/plain": [
       "<Figure size 432x288 with 1 Axes>"
      ]
     },
     "metadata": {
      "needs_background": "light"
     },
     "output_type": "display_data"
    }
   ],
   "source": [
    "plot_losses(trn_loss, val_loss, val_acc)"
   ]
  },
  {
   "cell_type": "markdown",
   "metadata": {},
   "source": [
    "So it looks like we need much more data in order to get our network to learn the solution. It also never quite reaches 100% accuracy. Perhaps lowering the learning rate would have helped at the end? \n",
    "\n",
    "Most of the learning seems to have happened between epochs 3 and 4."
   ]
  },
  {
   "cell_type": "markdown",
   "metadata": {},
   "source": []
  }
 ],
 "metadata": {
  "kernelspec": {
   "display_name": "Python (DL)",
   "language": "python",
   "name": "dl"
  },
  "language_info": {
   "codemirror_mode": {
    "name": "ipython",
    "version": 3
   },
   "file_extension": ".py",
   "mimetype": "text/x-python",
   "name": "python",
   "nbconvert_exporter": "python",
   "pygments_lexer": "ipython3",
   "version": "3.6.9"
  }
 },
 "nbformat": 4,
 "nbformat_minor": 2
}
