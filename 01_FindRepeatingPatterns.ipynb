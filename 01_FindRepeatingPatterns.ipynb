{
 "cells": [
  {
   "cell_type": "markdown",
   "metadata": {},
   "source": [
    "## Find Tandem Repeats"
   ]
  },
  {
   "cell_type": "markdown",
   "metadata": {},
   "source": [
    "In some DNA sequences there are repeating patterns that are located directly next to one another. These are called [Tandem Repeats](https://en.wikipedia.org/wiki/Tandem_repeat) and are of some interest to biologists.\n",
    "\n",
    "\n",
    "`ACGTACGTAAACGTAAACGTAAACGTGTGTACACCCAAAGTCA`\n",
    "\n",
    "In the above sequence, `ACGTAA` is repeated three times. This might warrant a closer look?\n",
    "\n",
    "Let's create a model that can detect repeated patterns within these sequences."
   ]
  },
  {
   "cell_type": "markdown",
   "metadata": {},
   "source": [
    "### Creating a dataset"
   ]
  },
  {
   "cell_type": "markdown",
   "metadata": {},
   "source": [
    "We will create a dataset by \n",
    " - Randomly generating sequences of 100 random base pairs \n",
    " - Replacing elements of them with repeated patterns of \n",
    "   - Length 2-20. \n",
    "   - Patterns may be repeated 2-4 times."
   ]
  },
  {
   "cell_type": "code",
   "execution_count": 28,
   "metadata": {},
   "outputs": [],
   "source": [
    "import random\n",
    "import numpy as np"
   ]
  },
  {
   "cell_type": "code",
   "execution_count": 34,
   "metadata": {},
   "outputs": [],
   "source": [
    "DNA_BASE_LENGTH = 100\n",
    "NUM_EXAMPLES = 100\n",
    "\n",
    "train_seq = []\n",
    "train_idx = np.zeros((NUM_EXAMPLES, DNA_BASE_LENGTH), dtype=np.int)\n",
    "\n",
    "# Create 100 random sequences of DNA bases\n",
    "for i, _ in enumerate(range(NUM_EXAMPLES)):\n",
    "    \n",
    "    dna_read = ''.join([random.choice('ACGT') for n in range(DNA_BASE_LENGTH)])\n",
    "    \n",
    "    # Build the repeated sequence\n",
    "    repetition_length = random.randint(2, 20)\n",
    "    number_of_repeats = random.randint(2, 4)\n",
    "    repeated_sequence = ''.join([random.choice('ACGT') for n in range(repetition_length)]) * number_of_repeats\n",
    "      \n",
    "    # Choose where to place the repetition\n",
    "    repeated_location = random.randint(0, len(dna_read) - 1 - len(repeated_sequence))\n",
    "    \n",
    "    # Insert the string\n",
    "    new_dna_read = dna_read[0:repeated_location] + repeated_sequence + dna_read[repeated_location + len(repeated_sequence):]\n",
    "    \n",
    "    # Mark the indexes of the start of reptitions\n",
    "    for j in range(number_of_repeats):\n",
    "        train_idx[i, repeated_location + (j * repetition_length)] = 1\n",
    "   \n",
    "    train_seq.append(new_dna_read)"
   ]
  },
  {
   "cell_type": "markdown",
   "metadata": {},
   "source": [
    "**TODO:** Handle accidentally repeated sequences. (For example we might have \"CC\" at the beginning or end of our sequence by chance)"
   ]
  },
  {
   "cell_type": "code",
   "execution_count": null,
   "metadata": {},
   "outputs": [],
   "source": []
  }
 ],
 "metadata": {
  "kernelspec": {
   "display_name": "Python (DL)",
   "language": "python",
   "name": "dl"
  },
  "language_info": {
   "codemirror_mode": {
    "name": "ipython",
    "version": 3
   },
   "file_extension": ".py",
   "mimetype": "text/x-python",
   "name": "python",
   "nbconvert_exporter": "python",
   "pygments_lexer": "ipython3",
   "version": "3.6.9"
  }
 },
 "nbformat": 4,
 "nbformat_minor": 2
}
