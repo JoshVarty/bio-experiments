{
 "cells": [
  {
   "cell_type": "markdown",
   "metadata": {},
   "source": [
    "## Tape Models\n",
    "\n",
    "Trying out: https://github.com/songlab-cal/tape"
   ]
  },
  {
   "cell_type": "code",
   "execution_count": 10,
   "metadata": {},
   "outputs": [],
   "source": [
    "import json\n",
    "from pathlib import Path\n",
    "\n",
    "import torch\n",
    "from torch.utils.data import DataLoader, Dataset\n",
    "\n",
    "from tape import ProteinBertModel\n",
    "from tape.tokenizers import TAPETokenizer"
   ]
  },
  {
   "cell_type": "code",
   "execution_count": 11,
   "metadata": {},
   "outputs": [],
   "source": [
    "model = ProteinBertModel.from_pretrained('bert-base')\n",
    "tokenizer = TAPETokenizer(vocab='iupac')  # iupac is the vocab for TAPE models, use unirep for the UniRep model\n",
    "\n",
    "# Pfam Family: Hexapep, Clan: CL0536\n",
    "sequence = 'GCTVEDRCLIGMGAILLNGCVIGSGSLVAAGALITQ'\n",
    "token_ids = torch.tensor([tokenizer.encode(sequence)])\n",
    "output = model(token_ids)\n",
    "sequence_output = output[0]\n",
    "pooled_output = output[1]\n",
    "\n",
    "# NOTE: pooled_output is *not* trained for the transformer, do not use\n",
    "# w/o fine-tuning. A better option for now is to simply take a mean of\n",
    "# the sequence output"
   ]
  },
  {
   "cell_type": "markdown",
   "metadata": {},
   "source": [
    "## Reproducing Secondary Structure Results"
   ]
  },
  {
   "cell_type": "markdown",
   "metadata": {},
   "source": [
    "We would like to reproduce the results that they've achieved for Secondary Structure in order to better understand what's going on."
   ]
  },
  {
   "cell_type": "code",
   "execution_count": 12,
   "metadata": {},
   "outputs": [],
   "source": [
    "data = Path('data/remote_homology/')\n",
    "train = data/'remote_homology_train.json'\n",
    "\n",
    "with open(train, \"r\") as f:\n",
    "    training_set = json.load(f)"
   ]
  },
  {
   "cell_type": "code",
   "execution_count": 30,
   "metadata": {},
   "outputs": [],
   "source": [
    "class SecondaryStructureDataset(Dataset):\n",
    "    \n",
    "    def _load_from_json(self, raw_json):\n",
    "        \n",
    "        x = []\n",
    "        y = []\n",
    "        \n",
    "        for entry in raw_json:\n",
    "            x.append(entry['primary'])\n",
    "            y.append(entry['secondary_structure'])\n",
    "            \n",
    "        return x, y\n",
    "    \n",
    "    def __init__(self, raw_json):\n",
    "        self.items, self.labels = self._load_from_json(raw_json)\n",
    "    \n",
    "    def __getitem__(self, idx):\n",
    "        x = torch.Tensor(self.items[idx]).long().cuda()\n",
    "        y = torch.Tensor(self.labels[idx]).long().cuda()\n",
    "        \n",
    "        return x, y\n",
    "    \n",
    "    def __len__(self):\n",
    "        return len(self.items)"
   ]
  },
  {
   "cell_type": "code",
   "execution_count": 31,
   "metadata": {},
   "outputs": [],
   "source": [
    "train_ds = SecondaryStructureDataset(training_set)"
   ]
  },
  {
   "cell_type": "code",
   "execution_count": 32,
   "metadata": {},
   "outputs": [],
   "source": [
    "class SecondaryStructureDatasetModel(torch.nn.Module):\n",
    "    \n",
    "    def __init__(self):\n",
    "        super().__init__()\n",
    "        self.model = ProteinBertModel.from_pretrained('bert-base')\n",
    "        self.tokenizer = TAPETokenizer(vocab='iupac')\n",
    "        self.linear = torch.nn.Linear(in_features=768, out_features=3)\n",
    "        \n",
    "    def forward(self, x):\n",
    "        \n",
    "        out, _ = self.model(x)\n",
    "        out = self.linear(out)\n",
    "        return out"
   ]
  },
  {
   "cell_type": "code",
   "execution_count": 33,
   "metadata": {},
   "outputs": [],
   "source": [
    "model = SecondaryStructureDatasetModel()\n",
    "model = model.cuda()"
   ]
  },
  {
   "cell_type": "code",
   "execution_count": null,
   "metadata": {},
   "outputs": [],
   "source": []
  },
  {
   "cell_type": "code",
   "execution_count": null,
   "metadata": {},
   "outputs": [],
   "source": []
  },
  {
   "cell_type": "code",
   "execution_count": null,
   "metadata": {},
   "outputs": [],
   "source": []
  },
  {
   "cell_type": "code",
   "execution_count": null,
   "metadata": {},
   "outputs": [],
   "source": []
  }
 ],
 "metadata": {
  "kernelspec": {
   "display_name": "Python (DL)",
   "language": "python",
   "name": "dl"
  },
  "language_info": {
   "codemirror_mode": {
    "name": "ipython",
    "version": 3
   },
   "file_extension": ".py",
   "mimetype": "text/x-python",
   "name": "python",
   "nbconvert_exporter": "python",
   "pygments_lexer": "ipython3",
   "version": "3.6.9"
  }
 },
 "nbformat": 4,
 "nbformat_minor": 2
}
